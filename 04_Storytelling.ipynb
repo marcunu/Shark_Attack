{
 "cells": [
  {
   "cell_type": "markdown",
   "metadata": {},
   "source": [
    "<img src=\"https://www.buceonorte.com/website/wp-content/uploads/tiburones-asesinos.jpg\">"
   ]
  },
  {
   "cell_type": "markdown",
   "metadata": {},
   "source": [
    "# Preliminary conclusions\n"
   ]
  },
  {
   "cell_type": "markdown",
   "metadata": {},
   "source": [
    "## Risk of death\n",
    "Despite what people think, shark atacks are not lethal, in fact, the probability of death after a shark attack is `24%`.\n",
    "\n",
    "<img src=\"images/riesgo_muerto.svg\">"
   ]
  },
  {
   "cell_type": "markdown",
   "metadata": {},
   "source": [
    "In the case of women, the risk of death is `19%`\n",
    "\n",
    "<img src=\"images/muerte_mujeres.svg\">"
   ]
  },
  {
   "cell_type": "markdown",
   "metadata": {},
   "source": [
    "While in men the risk of death is `25%`.\n",
    "\n",
    "<img src=\"images/muerte_h.svg\">"
   ]
  },
  {
   "cell_type": "markdown",
   "metadata": {},
   "source": [
    "#### The chance of dying after a shark attack is 24% and is more dangerous for men (25%) than for woman (19%)."
   ]
  },
  {
   "cell_type": "markdown",
   "metadata": {},
   "source": [
    "The 15 ages with more shark attack risk are:\n",
    "<img src=\"images/edad.svg\">"
   ]
  },
  {
   "cell_type": "markdown",
   "metadata": {},
   "source": [
    "## Most dangerous species\n"
   ]
  },
  {
   "cell_type": "markdown",
   "metadata": {},
   "source": [
    "There are many types of species and not in all cases of the attacks that were taken into account for the table the type of species was noted, but the 3 most dangerous species that appear in the data are:\n",
    "<img src=\"images/especies_p.svg\">"
   ]
  },
  {
   "cell_type": "markdown",
   "metadata": {},
   "source": [
    "#### The most dangerous species whose attacks have been confirmed are `White Shark` with `5%` of the deaths, followed by the `Tiger Shark` with `2,1%` of deaths and `Bull Shark` with `1,5%`of deaths"
   ]
  },
  {
   "cell_type": "markdown",
   "metadata": {},
   "source": [
    "The activities that have suffered the most attacks from these three species are:\n",
    "<img  src=\"images/especies_act.svg\">\n",
    "If we consider each species individually, these are the activities that have been damaged by sharks:\n",
    "<img src=\"images/esp_act.svg\">\n"
   ]
  },
  {
   "cell_type": "markdown",
   "metadata": {},
   "source": [
    "## Relation between `attacks` and `activity`."
   ]
  },
  {
   "cell_type": "markdown",
   "metadata": {},
   "source": [
    "Regardless of the species of shark, the activities with the highest risk of shark attack are:\n",
    "<img src=\"images/act_risky.svg\">"
   ]
  },
  {
   "cell_type": "markdown",
   "metadata": {},
   "source": [
    "Studies link shark attacks to `surface activities` because the shark mistakes them for the silhouette of its favorite prey, the `seal`, due to the fact that the movement of surfboards resembles that of seals. This is why more than half of the recorded `shark attacks are linked to the popularized sport of surfing`."
   ]
  },
  {
   "cell_type": "markdown",
   "metadata": {},
   "source": [
    "<img src=\"images/top_act3.svg\">\n",
    "\n",
    "From this graph we can deduce that `men are more likely to suffer a stroke than women`.\n",
    "\n",
    "The most dangerous activity for men is `Surfing` while `Swimming` is the most risky for women."
   ]
  },
  {
   "cell_type": "markdown",
   "metadata": {},
   "source": [
    "Although surfing is the activity that suffers the most attacks, only `5.3%` of these attacks are lethal, while the most lethal activity is `bathing` where 47% of the attacks are lethal, followed by `Swimming` with `40%`, and `Fishing`with `11%`of lethality.\n",
    "\n",
    "<img src=\"images/peligro.svg\">"
   ]
  },
  {
   "cell_type": "markdown",
   "metadata": {},
   "source": [
    "## Shark attacks researchers"
   ]
  },
  {
   "cell_type": "markdown",
   "metadata": {},
   "source": []
  }
 ],
 "metadata": {
  "kernelspec": {
   "display_name": "Python 3",
   "language": "python",
   "name": "python3"
  },
  "language_info": {
   "codemirror_mode": {
    "name": "ipython",
    "version": 3
   },
   "file_extension": ".py",
   "mimetype": "text/x-python",
   "name": "python",
   "nbconvert_exporter": "python",
   "pygments_lexer": "ipython3",
   "version": "3.8.5"
  }
 },
 "nbformat": 4,
 "nbformat_minor": 4
}
