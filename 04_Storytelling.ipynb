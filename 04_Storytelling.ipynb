{
 "cells": [
  {
   "cell_type": "markdown",
   "metadata": {},
   "source": [
    "<img src=\"https://www.buceonorte.com/website/wp-content/uploads/tiburones-asesinos.jpg\">"
   ]
  },
  {
   "cell_type": "markdown",
   "metadata": {},
   "source": [
    "# Research on shark attacks throughout history\n"
   ]
  },
  {
   "cell_type": "markdown",
   "metadata": {},
   "source": [
    "## Risk of death\n",
    "Despite what people think, shark atacks are not lethal, in fact, the probability of death after a shark attack is `24%`.\n",
    "\n",
    "<img src=\"images/riesgo_muerto.svg\">"
   ]
  },
  {
   "cell_type": "markdown",
   "metadata": {},
   "source": [
    "In the case of women, the risk of death is `19%`\n",
    "\n",
    "<img src=\"images/muerte_mujeres.svg\">"
   ]
  },
  {
   "cell_type": "markdown",
   "metadata": {},
   "source": [
    "While in men the risk of death is `25%`.\n",
    "\n",
    "<img src=\"images/muerte_h.svg\">"
   ]
  },
  {
   "cell_type": "markdown",
   "metadata": {},
   "source": [
    "#### The chance of dying after a shark attack is 24% and is more dangerous for men (25%) than for woman (19%)."
   ]
  },
  {
   "cell_type": "markdown",
   "metadata": {},
   "source": [
    "The 15 ages with more shark attack risk are:\n",
    "<img src=\"images/edad.svg\">"
   ]
  },
  {
   "cell_type": "markdown",
   "metadata": {},
   "source": [
    "## Countries with the highest number of shark attacks\n",
    "\n",
    "In the ranking of countries with the highest number of shark attacks we find `USA` with 2 229 cases (`35,7%` of cases)  attacks, followed by `Australia` with 1 338 cases (`21,4%`) and `South Africa` with 579 cases (`9,2%`).\n",
    "\n",
    "<img src=\"images/pais_m.svg\">"
   ]
  },
  {
   "cell_type": "markdown",
   "metadata": {},
   "source": [
    "In these countries, attacks have been concentrated over time as follows:\n",
    "<img src=\"images/pais_an.svg\">"
   ]
  },
  {
   "cell_type": "markdown",
   "metadata": {},
   "source": [
    "Most of the attacks have been carried out between 1950 and 2010.\n",
    "<img src=\"images/box_a.svg\">"
   ]
  },
  {
   "cell_type": "markdown",
   "metadata": {},
   "source": [
    "## Most dangerous species\n"
   ]
  },
  {
   "cell_type": "markdown",
   "metadata": {},
   "source": [
    "There are many types of species and not in all cases of the attacks that were taken into account for the table the type of species was noted, but the 3 most dangerous species that appear in the data are:\n",
    "<img src=\"images/especies_p.svg\">"
   ]
  },
  {
   "cell_type": "markdown",
   "metadata": {},
   "source": [
    "#### The most dangerous species whose attacks have been confirmed are `White Shark` with `5%` of the deaths, followed by the `Tiger Shark` with `2,1%` of deaths and `Bull Shark` with `1,5%`of deaths"
   ]
  },
  {
   "cell_type": "markdown",
   "metadata": {},
   "source": [
    "The activities that have suffered the most attacks from these three species are:\n",
    "<img  src=\"images/especies_act.svg\">\n",
    "If we consider each species individually, these are the activities that have been damaged by sharks:\n",
    "<img src=\"images/esp_act.svg\">\n"
   ]
  },
  {
   "cell_type": "markdown",
   "metadata": {},
   "source": [
    "## Relation between `attacks` and `activity`."
   ]
  },
  {
   "cell_type": "markdown",
   "metadata": {},
   "source": [
    "Regardless of the species of shark, the activities with the highest risk of shark attack are:\n",
    "<img src=\"images/act_risky.svg\">"
   ]
  },
  {
   "cell_type": "markdown",
   "metadata": {},
   "source": [
    "Studies link shark attacks to `surface activities` because the shark mistakes them for the silhouette of its favorite prey, the `seal`, due to the fact that the movement of surfboards resembles that of seals. This is why more than half of the recorded `shark attacks are linked to the popularized sport of surfing`."
   ]
  },
  {
   "cell_type": "markdown",
   "metadata": {},
   "source": [
    "<img src=\"images/top_act3.svg\">\n",
    "\n",
    "From this graph we can deduce that `men are more likely to suffer a stroke than women`.\n",
    "\n",
    "The most dangerous activity for men is `Surfing` while `Swimming` is the most risky for women."
   ]
  },
  {
   "cell_type": "markdown",
   "metadata": {},
   "source": [
    "Although surfing is the activity that suffers the most attacks, only `5.3%` of these attacks are lethal, while the most lethal activity is `bathing` where 47% of the attacks are lethal, followed by `Swimming` with `40%`, and `Fishing`with `11%`of lethality.\n",
    "\n",
    "<img src=\"images/peligro.svg\">"
   ]
  },
  {
   "cell_type": "markdown",
   "metadata": {},
   "source": [
    "## Shark attacks researchers\n",
    "#### How many `researchers` there are and how much research they have carried out. Is there a shark attack specialist?"
   ]
  },
  {
   "cell_type": "markdown",
   "metadata": {},
   "source": [
    "There are more than 4 950 Investors or Sources, and the mean number of cases per investigator is `1,27`.\n",
    "\n",
    "If we take a list of the 10 researchers who have studied the most cases, we obtain:"
   ]
  },
  {
   "cell_type": "markdown",
   "metadata": {},
   "source": [
    "<img src=\"images/invest.svg\">\n",
    "\n",
    "(`GSAF`: `G`lobal `S`hark `A`ttack `F`ile)"
   ]
  },
  {
   "cell_type": "markdown",
   "metadata": {},
   "source": [
    "\n",
    "\n",
    "As we can see, the 10 main investigators are:\n",
    "\n",
    "* C. Moore: 166 investigations.\n",
    "* C. Creswell: 165 investigations.\n",
    "* S. Petersohn: 82: investigations\n",
    "* R. Collier: 55 investigations\n",
    "* T. Peake: 48 investigations.\n",
    "* M. Levine: 45 investigations.\n",
    "* A. Gifford: 28 investigations.\n",
    "* B. Myatt: 26 investigations.\n",
    "* M. Vorenberg: 20 investigations.\n",
    "\n",
    "(`GSAF`: `G`lobal `S`hark `A`ttack `F`ile)"
   ]
  },
  {
   "cell_type": "markdown",
   "metadata": {},
   "source": [
    "we are going to focus on the 2 main researchers and make a small comparison between them, `C. Moore`, with 166 investigations and `C. Creswell` with 165 investigations arround all over the world. \n",
    "\n",
    "C.Moore:<img src=\"images/moore_pais.svg\">\n",
    "\n",
    "C. Creswell:<img src=\"images/cresw_pais.svg\">\n",
    "\n",
    "In the case of `Moore` Italy with `21.3%` of its research is the main area of study, followed by Spain with `15.2%` and Croatia with `14.6%`.\n",
    "\n",
    "While in the case of `C. Creswell` USA with `98.2%` of its research is the main area of study, followed by South Africa with `0,6 %` and New Zealand with `0,6%`.\n",
    "\n",
    "C. Moore: <img src=\"images/moore_year.svg\">\n",
    "C.Creswell: <img src=\"images/cresw_year.svg\">\n",
    "\n",
    "As experts, they have conducted researches over the years, with the largest number of investigations taking place between `1930` and `1970` in the case of `C. Moore` and between `2000` and `2018` in the case of C. Creswell."
   ]
  },
  {
   "cell_type": "markdown",
   "metadata": {},
   "source": [
    "Of the investigations carried out by `C. Moore`, `33%` happened while people were swimming and `23%` while they were fishing.\n",
    "\n",
    "Of the investigations carried out by `C. Creswell`. `25 %` happened while people were swimming and `14 %` while surfing.\n",
    "\n",
    "Of these attacks, `52.4%` were `unprovoked` in C. Moore research and `82.8%`in C. Creswell research.\n",
    "\n",
    "C. Moore:<img src=\"images/moore_pro.svg\">\n",
    "C. Creswell:<img src=\"images/cresw_pro.svg\">"
   ]
  },
  {
   "cell_type": "markdown",
   "metadata": {},
   "source": [
    "With these data we can conclude that `C. Moore` is a `European` researcher or focused on European research, while `C. Creswell` is primarily a `North American` researcher, although in both cases they have also conducted research outside their areas of study.\n",
    "\n",
    "In both cases the main causes of the attacks were while people were swimming and were unprovoked. \n",
    "\n"
   ]
  },
  {
   "cell_type": "code",
   "execution_count": null,
   "metadata": {},
   "outputs": [],
   "source": []
  }
 ],
 "metadata": {
  "kernelspec": {
   "display_name": "Python 3",
   "language": "python",
   "name": "python3"
  },
  "language_info": {
   "codemirror_mode": {
    "name": "ipython",
    "version": 3
   },
   "file_extension": ".py",
   "mimetype": "text/x-python",
   "name": "python",
   "nbconvert_exporter": "python",
   "pygments_lexer": "ipython3",
   "version": "3.8.5"
  }
 },
 "nbformat": 4,
 "nbformat_minor": 4
}
