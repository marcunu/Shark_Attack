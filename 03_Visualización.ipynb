{
 "cells": [
  {
   "cell_type": "markdown",
   "metadata": {},
   "source": [
    "<img  src=\"https://media.mehrnews.com/d/2019/07/31/4/3194094.jpg\">"
   ]
  },
  {
   "cell_type": "markdown",
   "metadata": {},
   "source": [
    "# Data Visualization"
   ]
  },
  {
   "cell_type": "markdown",
   "metadata": {},
   "source": [
    "### Import the necessary libraries"
   ]
  },
  {
   "cell_type": "code",
   "execution_count": 5,
   "metadata": {},
   "outputs": [],
   "source": [
    "import pandas as pd\n",
    "import src.limpieza_texto as lt\n",
    "import seaborn as sns\n",
    "import matplotlib.pyplot as plt\n",
    "import re\n",
    "import numpy\n",
    "import src.visualizacion as vt"
   ]
  },
  {
   "cell_type": "markdown",
   "metadata": {},
   "source": [
    "### Import the dateframe"
   ]
  },
  {
   "cell_type": "code",
   "execution_count": 6,
   "metadata": {},
   "outputs": [],
   "source": [
    "shrk = pd.read_csv(\"data/midatasetlimpio.csv\")"
   ]
  },
  {
   "cell_type": "code",
   "execution_count": 7,
   "metadata": {
    "scrolled": true
   },
   "outputs": [
    {
     "data": {
      "text/html": [
       "<div>\n",
       "<style scoped>\n",
       "    .dataframe tbody tr th:only-of-type {\n",
       "        vertical-align: middle;\n",
       "    }\n",
       "\n",
       "    .dataframe tbody tr th {\n",
       "        vertical-align: top;\n",
       "    }\n",
       "\n",
       "    .dataframe thead th {\n",
       "        text-align: right;\n",
       "    }\n",
       "</style>\n",
       "<table border=\"1\" class=\"dataframe\">\n",
       "  <thead>\n",
       "    <tr style=\"text-align: right;\">\n",
       "      <th></th>\n",
       "      <th>Unnamed: 0</th>\n",
       "      <th>Case Number</th>\n",
       "      <th>Date</th>\n",
       "      <th>Year</th>\n",
       "      <th>Type</th>\n",
       "      <th>Country</th>\n",
       "      <th>Area</th>\n",
       "      <th>Location</th>\n",
       "      <th>Activity</th>\n",
       "      <th>Name</th>\n",
       "      <th>Sex</th>\n",
       "      <th>Age</th>\n",
       "      <th>Injury</th>\n",
       "      <th>Fatal (Y/N)</th>\n",
       "      <th>Time</th>\n",
       "      <th>Species</th>\n",
       "      <th>Investigator or Source</th>\n",
       "      <th>href</th>\n",
       "    </tr>\n",
       "  </thead>\n",
       "  <tbody>\n",
       "    <tr>\n",
       "      <th>6299</th>\n",
       "      <td>6299</td>\n",
       "      <td>ND.0003</td>\n",
       "      <td>1900-1905</td>\n",
       "      <td>0.0</td>\n",
       "      <td>Unprovoked</td>\n",
       "      <td>USA</td>\n",
       "      <td>North Carolina</td>\n",
       "      <td>Ocracoke Inlet</td>\n",
       "      <td>Swimming</td>\n",
       "      <td>Coast Guard personnel</td>\n",
       "      <td>M</td>\n",
       "      <td>NaN</td>\n",
       "      <td>FATAL</td>\n",
       "      <td>Y</td>\n",
       "      <td>NaN</td>\n",
       "      <td>NaN</td>\n",
       "      <td>F. Schwartz, p.23; C. Creswell, GSAF</td>\n",
       "      <td>http://sharkattackfile.net/spreadsheets/pdf_di...</td>\n",
       "    </tr>\n",
       "    <tr>\n",
       "      <th>6300</th>\n",
       "      <td>6300</td>\n",
       "      <td>ND.0002</td>\n",
       "      <td>1883-1889</td>\n",
       "      <td>0.0</td>\n",
       "      <td>Unprovoked</td>\n",
       "      <td>PANAMA</td>\n",
       "      <td>NaN</td>\n",
       "      <td>Panama Bay 8ºN, 79ºW</td>\n",
       "      <td>NaN</td>\n",
       "      <td>Jules Patterson</td>\n",
       "      <td>M</td>\n",
       "      <td>NaN</td>\n",
       "      <td>FATAL</td>\n",
       "      <td>Y</td>\n",
       "      <td>NaN</td>\n",
       "      <td>NaN</td>\n",
       "      <td>The Sun, 10/20/1938</td>\n",
       "      <td>http://sharkattackfile.net/spreadsheets/pdf_di...</td>\n",
       "    </tr>\n",
       "    <tr>\n",
       "      <th>6301</th>\n",
       "      <td>6301</td>\n",
       "      <td>ND.0001</td>\n",
       "      <td>1845-1853</td>\n",
       "      <td>0.0</td>\n",
       "      <td>Unprovoked</td>\n",
       "      <td>CEYLON (SRI LANKA)</td>\n",
       "      <td>Eastern Province</td>\n",
       "      <td>Below the English fort, Trincomalee</td>\n",
       "      <td>Swimming</td>\n",
       "      <td>male</td>\n",
       "      <td>M</td>\n",
       "      <td>15</td>\n",
       "      <td>FATAL. \"Shark bit him in half, carrying away t...</td>\n",
       "      <td>Y</td>\n",
       "      <td>NaN</td>\n",
       "      <td>NaN</td>\n",
       "      <td>S.W. Baker</td>\n",
       "      <td>http://sharkattackfile.net/spreadsheets/pdf_di...</td>\n",
       "    </tr>\n",
       "  </tbody>\n",
       "</table>\n",
       "</div>"
      ],
      "text/plain": [
       "      Unnamed: 0 Case Number       Date  Year        Type             Country  \\\n",
       "6299        6299     ND.0003  1900-1905   0.0  Unprovoked                 USA   \n",
       "6300        6300     ND.0002  1883-1889   0.0  Unprovoked              PANAMA   \n",
       "6301        6301     ND.0001  1845-1853   0.0  Unprovoked  CEYLON (SRI LANKA)   \n",
       "\n",
       "                  Area                             Location  Activity  \\\n",
       "6299    North Carolina                       Ocracoke Inlet  Swimming   \n",
       "6300               NaN                 Panama Bay 8ºN, 79ºW       NaN   \n",
       "6301  Eastern Province  Below the English fort, Trincomalee  Swimming   \n",
       "\n",
       "                       Name Sex   Age  \\\n",
       "6299  Coast Guard personnel    M  NaN   \n",
       "6300        Jules Patterson    M  NaN   \n",
       "6301                   male    M   15   \n",
       "\n",
       "                                                 Injury Fatal (Y/N) Time  \\\n",
       "6299                                              FATAL           Y  NaN   \n",
       "6300                                              FATAL           Y  NaN   \n",
       "6301  FATAL. \"Shark bit him in half, carrying away t...           Y  NaN   \n",
       "\n",
       "     Species                 Investigator or Source  \\\n",
       "6299      NaN  F. Schwartz, p.23; C. Creswell, GSAF   \n",
       "6300      NaN                   The Sun, 10/20/1938   \n",
       "6301      NaN                            S.W. Baker   \n",
       "\n",
       "                                                   href  \n",
       "6299  http://sharkattackfile.net/spreadsheets/pdf_di...  \n",
       "6300  http://sharkattackfile.net/spreadsheets/pdf_di...  \n",
       "6301  http://sharkattackfile.net/spreadsheets/pdf_di...  "
      ]
     },
     "execution_count": 7,
     "metadata": {},
     "output_type": "execute_result"
    }
   ],
   "source": [
    "shrk.tail(3)"
   ]
  },
  {
   "cell_type": "markdown",
   "metadata": {},
   "source": [
    "## Preliminary conclusions"
   ]
  },
  {
   "cell_type": "markdown",
   "metadata": {},
   "source": [
    "### Risk of death"
   ]
  },
  {
   "cell_type": "code",
   "execution_count": 8,
   "metadata": {},
   "outputs": [],
   "source": [
    "death=lt.df_filtered_best(shrk, \"Fatal (Y/N)\", 2)\n"
   ]
  },
  {
   "cell_type": "code",
   "execution_count": 9,
   "metadata": {},
   "outputs": [
    {
     "data": {
      "text/plain": [
       "N    0.74774\n",
       "Y    0.25226\n",
       "Name: Fatal (Y/N), dtype: float64"
      ]
     },
     "execution_count": 9,
     "metadata": {},
     "output_type": "execute_result"
    }
   ],
   "source": [
    "sex=lt.df_filtered_best(shrk, \"Sex \", 2)\n",
    "sex_2 = lt.df_filtered_best(sex, \"Fatal (Y/N)\", 2)\n",
    "#sex_3 = lt.df_filtered_best(shrk, \"Sex \", 1)\n",
    "#sex_4 =  lt.df_filtered_best(sex_3, \"Fatal (Y/N)\", 2)\n",
    "mujeres = shrk[shrk[\"Sex \"] == \"F\"]\n",
    "mujeres =  lt.df_filtered_best(mujeres, \"Fatal (Y/N)\", 2)\n",
    "mujeres[\"Fatal (Y/N)\"].value_counts(1)\n",
    "hombres = shrk[shrk[\"Sex \"] == \"M\"]\n",
    "hombres =  lt.df_filtered_best(hombres, \"Fatal (Y/N)\", 2)\n",
    "hombres[\"Fatal (Y/N)\"].value_counts(1)"
   ]
  },
  {
   "cell_type": "code",
   "execution_count": 10,
   "metadata": {
    "scrolled": false
   },
   "outputs": [
    {
     "name": "stdout",
     "output_type": "stream",
     "text": [
      "The chance of dying: 24.0%\n"
     ]
    },
    {
     "data": {
      "text/plain": [
       "<AxesSubplot:xlabel='Fatal (Y/N)', ylabel='count'>"
      ]
     },
     "execution_count": 10,
     "metadata": {},
     "output_type": "execute_result"
    },
    {
     "data": {
      "image/png": "[encoded data removed]",
      "text/plain": [
       "<Figure size 432x288 with 1 Axes>"
      ]
     },
     "metadata": {
      "needs_background": "light"
     },
     "output_type": "display_data"
    }
   ],
   "source": [
    "riesgo_muerte = sns.countplot(x=sex_2[\"Fatal (Y/N)\"], hue = sex_2[\"Sex \"], palette=\"ch:s=-.2,r=.6\")\n",
    "\n",
    "por_muertes=shrk[\"Fatal (Y/N)\"].value_counts(1)\n",
    "muerte_h = hombres[\"Fatal (Y/N)\"].value_counts(1)\n",
    "muerte_m = mujeres[\"Fatal (Y/N)\"].value_counts(1)\n",
    "\n",
    "print(f\"The chance of dying: {por_muertes[1].round(2)*100}%\")\n",
    "riesgo_muerte"
   ]
  },
  {
   "cell_type": "code",
   "execution_count": 11,
   "metadata": {},
   "outputs": [],
   "source": [
    "vt.guarda_grafico(riesgo_muerte, \"images/riesgo_muerto.svg\")"
   ]
  },
  {
   "cell_type": "code",
   "execution_count": 12,
   "metadata": {
    "scrolled": true
   },
   "outputs": [
    {
     "name": "stdout",
     "output_type": "stream",
     "text": [
      "Women risk of death: 19.0%\n"
     ]
    },
    {
     "data": {
      "text/plain": [
       "<AxesSubplot:xlabel='Fatal (Y/N)', ylabel='count'>"
      ]
     },
     "execution_count": 12,
     "metadata": {},
     "output_type": "execute_result"
    },
    {
     "data": {
      "image/png": "[encoded data removed]",
      "text/plain": [
       "<Figure size 432x288 with 1 Axes>"
      ]
     },
     "metadata": {
      "needs_background": "light"
     },
     "output_type": "display_data"
    }
   ],
   "source": [
    "muerte_mujeres = sns.countplot(x=mujeres[\"Fatal (Y/N)\"], palette=\"Purples\")\n",
    "vt.guarda_grafico(muerte_mujeres, \"images/muerte_mujeres.svg\")\n",
    "print(f\"Women risk of death: {muerte_m[1].round(2)*100}%\")\n",
    "muerte_mujeres"
   ]
  },
  {
   "cell_type": "code",
   "execution_count": 13,
   "metadata": {},
   "outputs": [
    {
     "ename": "TypeError",
     "evalue": "'AxesSubplot' object is not subscriptable",
     "output_type": "error",
     "traceback": [
      "\u001b[1;31m---------------------------------------------------------------------------\u001b[0m",
      "\u001b[1;31mTypeError\u001b[0m                                 Traceback (most recent call last)",
      "\u001b[1;32m<ipython-input-13-f373e768e89e>\u001b[0m in \u001b[0;36m<module>\u001b[1;34m\u001b[0m\n\u001b[0;32m      1\u001b[0m \u001b[0mmuerte_h\u001b[0m \u001b[1;33m=\u001b[0m \u001b[0msns\u001b[0m\u001b[1;33m.\u001b[0m\u001b[0mcountplot\u001b[0m\u001b[1;33m(\u001b[0m\u001b[0mx\u001b[0m\u001b[1;33m=\u001b[0m\u001b[0mhombres\u001b[0m\u001b[1;33m[\u001b[0m\u001b[1;34m\"Fatal (Y/N)\"\u001b[0m\u001b[1;33m]\u001b[0m\u001b[1;33m,\u001b[0m \u001b[0mpalette\u001b[0m\u001b[1;33m=\u001b[0m\u001b[1;34m\"Blues\"\u001b[0m\u001b[1;33m)\u001b[0m\u001b[1;33m\u001b[0m\u001b[1;33m\u001b[0m\u001b[0m\n\u001b[0;32m      2\u001b[0m \u001b[0mvt\u001b[0m\u001b[1;33m.\u001b[0m\u001b[0mguarda_grafico\u001b[0m\u001b[1;33m(\u001b[0m\u001b[0mmuerte_h\u001b[0m\u001b[1;33m,\u001b[0m\u001b[1;34m\"images/muerte_h.svg\"\u001b[0m\u001b[1;33m)\u001b[0m\u001b[1;33m\u001b[0m\u001b[1;33m\u001b[0m\u001b[0m\n\u001b[1;32m----> 3\u001b[1;33m \u001b[0mprint\u001b[0m\u001b[1;33m(\u001b[0m\u001b[1;34mf\"Men risk of death: {muerte_h[1].round(2)*100}%\"\u001b[0m\u001b[1;33m)\u001b[0m\u001b[1;33m\u001b[0m\u001b[1;33m\u001b[0m\u001b[0m\n\u001b[0m\u001b[0;32m      4\u001b[0m \u001b[0mmuerte_h\u001b[0m\u001b[1;33m\u001b[0m\u001b[1;33m\u001b[0m\u001b[0m\n",
      "\u001b[1;31mTypeError\u001b[0m: 'AxesSubplot' object is not subscriptable"
     ]
    },
    {
     "data": {
      "image/png": "[encoded data removed]",
      "text/plain": [
       "<Figure size 432x288 with 1 Axes>"
      ]
     },
     "metadata": {
      "needs_background": "light"
     },
     "output_type": "display_data"
    }
   ],
   "source": [
    "muerte_h = sns.countplot(x=hombres[\"Fatal (Y/N)\"], palette=\"Blues\")\n",
    "vt.guarda_grafico(muerte_h,\"images/muerte_h.svg\")\n",
    "print(f\"Men risk of death: {muerte_h[1].round(2)*100}%\")\n",
    "muerte_h"
   ]
  },
  {
   "cell_type": "markdown",
   "metadata": {},
   "source": [
    "#### The chance of dying after a shark attack is 24% and is more dangerous for men (25%) than for woman (19%)."
   ]
  },
  {
   "cell_type": "code",
   "execution_count": 115,
   "metadata": {},
   "outputs": [],
   "source": [
    "edad = lt.df_filtered_best(death, \"Age\", 55)\n",
    "#edad[\"Age\"].astype(int)\n",
    "\n",
    "#edad[\"Age\"].mean()\n",
    "\n",
    "#edad = sns.histplot(y=edad.Age, hue=edad[\"Fatal (Y/N)\"])\n",
    "#edad.describe()"
   ]
  },
  {
   "cell_type": "markdown",
   "metadata": {},
   "source": [
    "## Most dangerous species\n"
   ]
  },
  {
   "cell_type": "code",
   "execution_count": 14,
   "metadata": {
    "scrolled": true
   },
   "outputs": [
    {
     "data": {
      "text/plain": [
       "White shark                                           0.047055\n",
       "Shark involvement prior to death was not confirmed    0.030312\n",
       "Invalid                                               0.029446\n",
       "Shark involvement not confirmed                       0.025404\n",
       "Tiger shark                                           0.021074\n",
       "Shark involvement prior to death unconfirmed          0.019630\n",
       "Bull shark                                            0.015012\n",
       "4' shark                                              0.011547\n",
       "6' shark                                              0.011547\n",
       "1.8 m [6'] shark                                      0.010104\n",
       "Questionable incident                                 0.010104\n",
       "Questionable                                          0.009815\n",
       "1.5 m [5'] shark                                      0.009238\n",
       "1.2 m [4'] shark                                      0.007794\n",
       "3' shark                                              0.007506\n",
       "Name: Species , dtype: float64"
      ]
     },
     "execution_count": 14,
     "metadata": {},
     "output_type": "execute_result"
    }
   ],
   "source": [
    "tib = shrk[\"Species \"].value_counts(1)\n",
    "tib[:15]"
   ]
  },
  {
   "cell_type": "code",
   "execution_count": 15,
   "metadata": {
    "scrolled": true
   },
   "outputs": [
    {
     "data": {
      "image/png": "[encoded data removed]",
      "text/plain": [
       "<Figure size 432x288 with 1 Axes>"
      ]
     },
     "metadata": {
      "needs_background": "light"
     },
     "output_type": "display_data"
    }
   ],
   "source": [
    "w = shrk[shrk[\"Species \"] == \"White shark\"]\n",
    "t = shrk[shrk[\"Species \"] == \"Tiger shark\"]\n",
    "b = shrk[shrk[\"Species \"] == \"Bull shark\"]\n",
    "especies = pd.concat([w,t,b])\n",
    "especies_p = sns.countplot(x=especies[\"Species \"], palette=\"Reds\")\n",
    "vt.guarda_grafico(especies_p, \"images/especies_p.svg\")\n"
   ]
  },
  {
   "cell_type": "code",
   "execution_count": 16,
   "metadata": {},
   "outputs": [
    {
     "data": {
      "image/png": "[encoded data removed]",
      "text/plain": [
       "<Figure size 432x288 with 1 Axes>"
      ]
     },
     "metadata": {
      "needs_background": "light"
     },
     "output_type": "display_data"
    }
   ],
   "source": [
    "w_a = lt.df_filtered_best(w, \"Activity\", 10)\n",
    "especies_act = sns.countplot(y= w_a.Activity, palette=\"Oranges\")\n",
    "vt.guarda_grafico(especies_act, \"images/especies_act.svg\")"
   ]
  },
  {
   "cell_type": "code",
   "execution_count": 17,
   "metadata": {},
   "outputs": [
    {
     "data": {
      "image/png": "[encoded data removed]",
      "text/plain": [
       "<Figure size 432x288 with 1 Axes>"
      ]
     },
     "metadata": {
      "needs_background": "light"
     },
     "output_type": "display_data"
    }
   ],
   "source": [
    "especies_act = lt.df_filtered_best(especies, \"Activity\", 10)\n",
    "esp_act = sns.scatterplot(x=especies_act[\"Species \"], y=especies_act[\"Activity\"])\n",
    "vt.guarda_grafico(esp_act, \"images/esp_act.svg\")"
   ]
  },
  {
   "cell_type": "markdown",
   "metadata": {},
   "source": [
    "### Focusing on the main hypotheses of the study, we created graphs to help us explain the results."
   ]
  },
  {
   "cell_type": "markdown",
   "metadata": {},
   "source": [
    "## Hypothesis 1\n",
    "#### Relation between `attacks` and `activity`"
   ]
  },
  {
   "cell_type": "markdown",
   "metadata": {},
   "source": [
    "I use the `.value_counts()` function to see how many different types of activities there are within the table."
   ]
  },
  {
   "cell_type": "code",
   "execution_count": 18,
   "metadata": {},
   "outputs": [
    {
     "data": {
      "text/plain": [
       "Surfing                                                                                                                                                  0.168635\n",
       "Swimming                                                                                                                                                 0.150920\n",
       "Fishing                                                                                                                                                  0.074852\n",
       "Spearfishing                                                                                                                                             0.057833\n",
       "Bathing                                                                                                                                                  0.028135\n",
       "                                                                                                                                                           ...   \n",
       "The World Liberty and the tanker Mosli collided. The  Halcyon Breeze sent a lifeboat to the rescue, but it was smashed, throwing 6 men in the  water.    0.000174\n",
       "In waist-deep water                                                                                                                                      0.000174\n",
       "Skin diving. Grabbed shark's tail; shark turned & grabbed diver's ankle & began towing him to deep water                                                 0.000174\n",
       "Anti-sabotage night dive exercise alongside destroyer (Scuba diving)                                                                                     0.000174\n",
       "Standing on sandbar                                                                                                                                      0.000174\n",
       "Name: Activity, Length: 1532, dtype: float64"
      ]
     },
     "execution_count": 18,
     "metadata": {},
     "output_type": "execute_result"
    }
   ],
   "source": [
    "shrk.Activity.value_counts(1)"
   ]
  },
  {
   "cell_type": "markdown",
   "metadata": {},
   "source": [
    "There are 1,532 different types of activities. Therefore, we focus on all those that account for more than 1% of the total cases."
   ]
  },
  {
   "cell_type": "code",
   "execution_count": 19,
   "metadata": {
    "scrolled": false
   },
   "outputs": [
    {
     "data": {
      "image/png": "[encoded data removed]",
      "text/plain": [
       "<Figure size 432x288 with 1 Axes>"
      ]
     },
     "metadata": {
      "needs_background": "light"
     },
     "output_type": "display_data"
    }
   ],
   "source": [
    "top_act = lt.df_filtered_best(shrk, \"Activity\", 12)\n",
    "act_risky = sns.countplot(y=top_act.Activity,palette=\"Reds\")\n",
    "\n",
    "vt.guarda_grafico(act_risky, \"images/act_risky.svg\")"
   ]
  },
  {
   "cell_type": "code",
   "execution_count": 49,
   "metadata": {},
   "outputs": [
    {
     "ename": "AttributeError",
     "evalue": "'tuple' object has no attribute 'savefig'",
     "output_type": "error",
     "traceback": [
      "\u001b[1;31m---------------------------------------------------------------------------\u001b[0m",
      "\u001b[1;31mAttributeError\u001b[0m                            Traceback (most recent call last)",
      "\u001b[1;32m<ipython-input-49-97c5e56cc5d4>\u001b[0m in \u001b[0;36m<module>\u001b[1;34m\u001b[0m\n\u001b[0;32m      2\u001b[0m \u001b[0mta2\u001b[0m \u001b[1;33m=\u001b[0m \u001b[0mpd\u001b[0m\u001b[1;33m.\u001b[0m\u001b[0mDataFrame\u001b[0m\u001b[1;33m(\u001b[0m\u001b[0mta\u001b[0m\u001b[1;33m)\u001b[0m\u001b[1;33m\u001b[0m\u001b[1;33m\u001b[0m\u001b[0m\n\u001b[0;32m      3\u001b[0m \u001b[0mact_risky_3\u001b[0m \u001b[1;33m=\u001b[0m \u001b[0mplt\u001b[0m\u001b[1;33m.\u001b[0m\u001b[0mpie\u001b[0m\u001b[1;33m(\u001b[0m\u001b[0mta2\u001b[0m\u001b[1;33m.\u001b[0m\u001b[0mActivity\u001b[0m\u001b[1;33m,\u001b[0m \u001b[0mlabels\u001b[0m\u001b[1;33m=\u001b[0m\u001b[0mta\u001b[0m\u001b[1;33m.\u001b[0m\u001b[0mindex\u001b[0m\u001b[1;33m)\u001b[0m\u001b[1;33m\u001b[0m\u001b[1;33m\u001b[0m\u001b[0m\n\u001b[1;32m----> 4\u001b[1;33m \u001b[0mact_risky_3\u001b[0m\u001b[1;33m.\u001b[0m\u001b[0msavefig\u001b[0m\u001b[1;33m(\u001b[0m\u001b[1;34m\"images/act_risky_2.svg\"\u001b[0m\u001b[1;33m)\u001b[0m\u001b[1;33m\u001b[0m\u001b[1;33m\u001b[0m\u001b[0m\n\u001b[0m\u001b[0;32m      5\u001b[0m \u001b[1;33m\u001b[0m\u001b[0m\n\u001b[0;32m      6\u001b[0m \u001b[1;31m#vt.guarda_grafico(act_risky_2,\"images/act_risky_2.svg\")\u001b[0m\u001b[1;33m\u001b[0m\u001b[1;33m\u001b[0m\u001b[1;33m\u001b[0m\u001b[0m\n",
      "\u001b[1;31mAttributeError\u001b[0m: 'tuple' object has no attribute 'savefig'"
     ]
    },
    {
     "data": {
      "image/png": "[encoded data removed]",
      "text/plain": [
       "<Figure size 432x288 with 1 Axes>"
      ]
     },
     "metadata": {},
     "output_type": "display_data"
    }
   ],
   "source": [
    "ta = top_act.Activity.value_counts(1)\n",
    "ta2 = pd.DataFrame(ta)\n",
    "act_risky_3 = plt.pie(ta2.Activity, labels=ta.index)\n",
    "act_risky_3.savefig(\"images/act_risky_2.svg\")\n",
    "\n",
    "#vt.guarda_grafico(act_risky_2,\"images/act_risky_2.svg\")"
   ]
  },
  {
   "cell_type": "markdown",
   "metadata": {},
   "source": [
    "This are the most risky activities."
   ]
  },
  {
   "cell_type": "code",
   "execution_count": 30,
   "metadata": {},
   "outputs": [
    {
     "data": {
      "text/plain": [
       "<AxesSubplot:xlabel='Activity', ylabel='count'>"
      ]
     },
     "execution_count": 30,
     "metadata": {},
     "output_type": "execute_result"
    },
    {
     "data": {
      "image/png": "[encoded data removed]",
      "text/plain": [
       "<Figure size 432x288 with 1 Axes>"
      ]
     },
     "metadata": {
      "needs_background": "light"
     },
     "output_type": "display_data"
    }
   ],
   "source": [
    "top_act_s = lt.df_filtered_best(top_act, \"Sex \", 2)\n",
    "top_act2 = sns.countplot(x = top_act_s.Activity, hue =top_act_s[\"Sex \"], palette=\"dark:salmon_r\")\n",
    "top_act2.set_xticklabels(top_act2.get_xticklabels(), rotation=40)\n",
    "vt.guarda_grafico(top_act2,\"images/top_act3.svg\")\n",
    "top_act2"
   ]
  },
  {
   "cell_type": "code",
   "execution_count": 22,
   "metadata": {},
   "outputs": [
    {
     "data": {
      "text/plain": [
       "<AxesSubplot:xlabel='Activity', ylabel='count'>"
      ]
     },
     "execution_count": 22,
     "metadata": {},
     "output_type": "execute_result"
    }
   ],
   "source": [
    "vt.rotar_labels(top_act2,90)\n",
    "top_act2"
   ]
  },
  {
   "cell_type": "markdown",
   "metadata": {},
   "source": [
    "From this graph we can deduce that men are more likely to suffer a stroke than women.\n",
    "\n",
    "The most dangerous activity for men is `Surfing` while `Swimming` is the most risky for women.\n"
   ]
  },
  {
   "cell_type": "code",
   "execution_count": 26,
   "metadata": {},
   "outputs": [
    {
     "data": {
      "image/png": "[encoded data removed]",
      "text/plain": [
       "<Figure size 432x288 with 1 Axes>"
      ]
     },
     "metadata": {
      "needs_background": "light"
     },
     "output_type": "display_data"
    }
   ],
   "source": [
    "act_pel = lt.df_filtered_best(top_act, \"Fatal (Y/N)\", 2)\n",
    "peligro = sns.countplot(y = act_pel.Activity, hue = act_pel[\"Fatal (Y/N)\"], palette=\"Reds\")\n"
   ]
  },
  {
   "cell_type": "code",
   "execution_count": 27,
   "metadata": {},
   "outputs": [],
   "source": [
    "vt.guarda_grafico(peligro, \"images/peligro.svg\")"
   ]
  },
  {
   "cell_type": "code",
   "execution_count": 46,
   "metadata": {},
   "outputs": [
    {
     "data": {
      "text/plain": [
       "N    0.885086\n",
       "Y    0.114914\n",
       "Name: Fatal (Y/N), dtype: float64"
      ]
     },
     "execution_count": 46,
     "metadata": {},
     "output_type": "execute_result"
    }
   ],
   "source": [
    "act_pel2 = act_pel[act_pel[\"Activity\"] == \"Fishing\"]\n",
    "act_pel2[\"Fatal (Y/N)\"].value_counts(1)"
   ]
  },
  {
   "cell_type": "code",
   "execution_count": 43,
   "metadata": {},
   "outputs": [
    {
     "data": {
      "text/plain": [
       "Swimming         304\n",
       "Bathing           70\n",
       "Surfing           49\n",
       "Fishing           47\n",
       "Spearfishing      41\n",
       "Diving            19\n",
       "Standing          16\n",
       "Body boarding     14\n",
       "Wading            13\n",
       "Scuba diving      13\n",
       "Snorkeling        11\n",
       "Body surfing       6\n",
       "Name: Activity, dtype: int64"
      ]
     },
     "execution_count": 43,
     "metadata": {},
     "output_type": "execute_result"
    }
   ],
   "source": [
    "act_pel3 = act_pel[act_pel[\"Fatal (Y/N)\"] == \"Y\"]\n",
    "act_pel3[\"Activity\"].value_counts()"
   ]
  },
  {
   "cell_type": "markdown",
   "metadata": {},
   "source": [
    "## Hypothesis 2\n",
    "#### How many `researchers` there are and how much research they have carried out. Is there a shark attack specialist?"
   ]
  },
  {
   "cell_type": "code",
   "execution_count": 156,
   "metadata": {
    "scrolled": false
   },
   "outputs": [
    {
     "data": {
      "text/plain": [
       "array(['R. Collier, GSAF', 'K.McMurray, TrackingSharks.com',\n",
       "       'B. Myatt, GSAF', ..., 'F. Schwartz, p.23; C. Creswell, GSAF',\n",
       "       'The Sun, 10/20/1938', 'S.W. Baker'], dtype=object)"
      ]
     },
     "execution_count": 156,
     "metadata": {},
     "output_type": "execute_result"
    }
   ],
   "source": [
    "shrk[\"Investigator or Source\"].unique()"
   ]
  },
  {
   "cell_type": "code",
   "execution_count": 45,
   "metadata": {
    "scrolled": false
   },
   "outputs": [
    {
     "data": {
      "text/plain": [
       "C. Moore, GSAF        105\n",
       "C. Creswell, GSAF      92\n",
       "S. Petersohn, GSAF     82\n",
       "R. Collier             55\n",
       "T. Peake, GSAF         48\n",
       "R. Collier, GSAF       48\n",
       "M. Levine, GSAF        45\n",
       "A. Gifford, GSAF       28\n",
       "C. Moore. GSAF         27\n",
       "B. Myatt, GSAF         26\n",
       "Name: Investigator or Source, dtype: int64"
      ]
     },
     "execution_count": 45,
     "metadata": {},
     "output_type": "execute_result"
    }
   ],
   "source": [
    "a = shrk[\"Investigator or Source\"].value_counts()\n",
    "a[:10]"
   ]
  },
  {
   "cell_type": "code",
   "execution_count": 43,
   "metadata": {},
   "outputs": [
    {
     "data": {
      "text/plain": [
       "<AxesSubplot:xlabel='count', ylabel='Investigator or Source'>"
      ]
     },
     "execution_count": 43,
     "metadata": {},
     "output_type": "execute_result"
    },
    {
     "data": {
      "image/png": "[encoded data removed]",
      "text/plain": [
       "<Figure size 432x288 with 1 Axes>"
      ]
     },
     "metadata": {
      "needs_background": "light"
     },
     "output_type": "display_data"
    }
   ],
   "source": [
    "top_invest = lt.df_filtered_best(shrk, \"Investigator or Source\", 10)\n",
    "sns.countplot(y=top_invest[\"Investigator or Source\"], palette=\"Blues\")"
   ]
  },
  {
   "cell_type": "code",
   "execution_count": 38,
   "metadata": {},
   "outputs": [],
   "source": [
    "import src.limpieza_texto as lt"
   ]
  },
  {
   "cell_type": "code",
   "execution_count": 27,
   "metadata": {
    "scrolled": true
   },
   "outputs": [
    {
     "data": {
      "text/html": [
       "<div>\n",
       "<style scoped>\n",
       "    .dataframe tbody tr th:only-of-type {\n",
       "        vertical-align: middle;\n",
       "    }\n",
       "\n",
       "    .dataframe tbody tr th {\n",
       "        vertical-align: top;\n",
       "    }\n",
       "\n",
       "    .dataframe thead th {\n",
       "        text-align: right;\n",
       "    }\n",
       "</style>\n",
       "<table border=\"1\" class=\"dataframe\">\n",
       "  <thead>\n",
       "    <tr style=\"text-align: right;\">\n",
       "      <th></th>\n",
       "      <th>Case Number</th>\n",
       "      <th>Date</th>\n",
       "      <th>Year</th>\n",
       "      <th>Type</th>\n",
       "      <th>Country</th>\n",
       "      <th>Area</th>\n",
       "      <th>Location</th>\n",
       "      <th>Activity</th>\n",
       "      <th>Name</th>\n",
       "      <th>Sex</th>\n",
       "      <th>Age</th>\n",
       "      <th>Injury</th>\n",
       "      <th>Fatal (Y/N)</th>\n",
       "      <th>Time</th>\n",
       "      <th>Species</th>\n",
       "      <th>Investigator or Source</th>\n",
       "      <th>href</th>\n",
       "    </tr>\n",
       "  </thead>\n",
       "  <tbody>\n",
       "    <tr>\n",
       "      <th>136</th>\n",
       "      <td>2017.06.07.R</td>\n",
       "      <td>Reported 07-Jun-2017</td>\n",
       "      <td>2017.0</td>\n",
       "      <td>Unprovoked</td>\n",
       "      <td>UNITED KINGDOM</td>\n",
       "      <td>South Devon</td>\n",
       "      <td>Bantham Beach</td>\n",
       "      <td>Surfing</td>\n",
       "      <td>Rich Thomson</td>\n",
       "      <td>M</td>\n",
       "      <td>30</td>\n",
       "      <td>Bruise to leg, cuts to hand sustained when he ...</td>\n",
       "      <td>N</td>\n",
       "      <td>NaN</td>\n",
       "      <td>3m shark, probably a smooth hound</td>\n",
       "      <td>C. Moore, GSAF</td>\n",
       "      <td>http://sharkattackfile.net/spreadsheets/pdf_di...</td>\n",
       "    </tr>\n",
       "    <tr>\n",
       "      <th>2718</th>\n",
       "      <td>1988.08.22.a</td>\n",
       "      <td>22-Aug-1988</td>\n",
       "      <td>1988.0</td>\n",
       "      <td>Unprovoked</td>\n",
       "      <td>ITALY</td>\n",
       "      <td>Manfredonia</td>\n",
       "      <td>Ippocampo</td>\n",
       "      <td>NaN</td>\n",
       "      <td>male</td>\n",
       "      <td>M</td>\n",
       "      <td>16</td>\n",
       "      <td>Survived</td>\n",
       "      <td>N</td>\n",
       "      <td>NaN</td>\n",
       "      <td>NaN</td>\n",
       "      <td>C. Moore, GSAF</td>\n",
       "      <td>http://sharkattackfile.net/spreadsheets/pdf_di...</td>\n",
       "    </tr>\n",
       "    <tr>\n",
       "      <th>3183</th>\n",
       "      <td>1976.06.02.R</td>\n",
       "      <td>Reported 02-Jun-1976</td>\n",
       "      <td>1976.0</td>\n",
       "      <td>Provoked</td>\n",
       "      <td>ITALY</td>\n",
       "      <td>Reggio Calabria Province</td>\n",
       "      <td>Bovalino</td>\n",
       "      <td>Fishing</td>\n",
       "      <td>Francisco Pelle</td>\n",
       "      <td>M</td>\n",
       "      <td>46</td>\n",
       "      <td>Shark rammed boat PROVOKED INCIDENT</td>\n",
       "      <td>N</td>\n",
       "      <td>NaN</td>\n",
       "      <td>Blue shark, 2m</td>\n",
       "      <td>C. Moore, GSAF</td>\n",
       "      <td>http://sharkattackfile.net/spreadsheets/pdf_di...</td>\n",
       "    </tr>\n",
       "    <tr>\n",
       "      <th>3229</th>\n",
       "      <td>1975.04.25</td>\n",
       "      <td>25-Apr-1975</td>\n",
       "      <td>1975.0</td>\n",
       "      <td>Invalid</td>\n",
       "      <td>ITALY</td>\n",
       "      <td>Genoa Province</td>\n",
       "      <td>Cervara</td>\n",
       "      <td>Scuba diving</td>\n",
       "      <td>Walter Sansoni</td>\n",
       "      <td>M</td>\n",
       "      <td>37</td>\n",
       "      <td>The press reported this as an attack by a whit...</td>\n",
       "      <td>NaN</td>\n",
       "      <td>NaN</td>\n",
       "      <td>Invalid</td>\n",
       "      <td>C. Moore, GSAF</td>\n",
       "      <td>http://sharkattackfile.net/spreadsheets/pdf_di...</td>\n",
       "    </tr>\n",
       "    <tr>\n",
       "      <th>3513</th>\n",
       "      <td>1967.08.25</td>\n",
       "      <td>25-Aug-1967</td>\n",
       "      <td>1967.0</td>\n",
       "      <td>Unprovoked</td>\n",
       "      <td>ITALY</td>\n",
       "      <td>Liguria</td>\n",
       "      <td>Marinella Sarzana, La Spezia</td>\n",
       "      <td>Spearfishing on Scuba</td>\n",
       "      <td>Gian Paolo Porta Casucci</td>\n",
       "      <td>M</td>\n",
       "      <td>NaN</td>\n",
       "      <td>Minor injuries to face &amp; forearm</td>\n",
       "      <td>N</td>\n",
       "      <td>NaN</td>\n",
       "      <td>NaN</td>\n",
       "      <td>C. Moore, GSAF</td>\n",
       "      <td>http://sharkattackfile.net/spreadsheets/pdf_di...</td>\n",
       "    </tr>\n",
       "    <tr>\n",
       "      <th>...</th>\n",
       "      <td>...</td>\n",
       "      <td>...</td>\n",
       "      <td>...</td>\n",
       "      <td>...</td>\n",
       "      <td>...</td>\n",
       "      <td>...</td>\n",
       "      <td>...</td>\n",
       "      <td>...</td>\n",
       "      <td>...</td>\n",
       "      <td>...</td>\n",
       "      <td>...</td>\n",
       "      <td>...</td>\n",
       "      <td>...</td>\n",
       "      <td>...</td>\n",
       "      <td>...</td>\n",
       "      <td>...</td>\n",
       "      <td>...</td>\n",
       "    </tr>\n",
       "    <tr>\n",
       "      <th>6155</th>\n",
       "      <td>1742.12.17</td>\n",
       "      <td>17-Dec-1742</td>\n",
       "      <td>1742.0</td>\n",
       "      <td>Unprovoked</td>\n",
       "      <td>NaN</td>\n",
       "      <td>NaN</td>\n",
       "      <td>Carlisle Bay</td>\n",
       "      <td>Swimming</td>\n",
       "      <td>2 impressed seamen</td>\n",
       "      <td>M</td>\n",
       "      <td>NaN</td>\n",
       "      <td>FATAL</td>\n",
       "      <td>Y</td>\n",
       "      <td>NaN</td>\n",
       "      <td>NaN</td>\n",
       "      <td>C. Moore, GSAF</td>\n",
       "      <td>http://sharkattackfile.net/spreadsheets/pdf_di...</td>\n",
       "    </tr>\n",
       "    <tr>\n",
       "      <th>6156</th>\n",
       "      <td>1738.04.06.R</td>\n",
       "      <td>Reported 06-Apr-1738</td>\n",
       "      <td>1738.0</td>\n",
       "      <td>Unprovoked</td>\n",
       "      <td>ITALY</td>\n",
       "      <td>Sicily</td>\n",
       "      <td>Strait of Messina</td>\n",
       "      <td>Swimming</td>\n",
       "      <td>male</td>\n",
       "      <td>M</td>\n",
       "      <td>NaN</td>\n",
       "      <td>FATAL</td>\n",
       "      <td>Y</td>\n",
       "      <td>NaN</td>\n",
       "      <td>NaN</td>\n",
       "      <td>C. Moore, GSAF</td>\n",
       "      <td>http://sharkattackfile.net/spreadsheets/pdf_di...</td>\n",
       "    </tr>\n",
       "    <tr>\n",
       "      <th>6193</th>\n",
       "      <td>ND-0134</td>\n",
       "      <td>Between   1951-1963</td>\n",
       "      <td>0.0</td>\n",
       "      <td>Unprovoked</td>\n",
       "      <td>GREECE</td>\n",
       "      <td>NaN</td>\n",
       "      <td>NaN</td>\n",
       "      <td>Swimming</td>\n",
       "      <td>Martha Hatagouei</td>\n",
       "      <td>F</td>\n",
       "      <td>NaN</td>\n",
       "      <td>FATAL</td>\n",
       "      <td>Y</td>\n",
       "      <td>NaN</td>\n",
       "      <td>NaN</td>\n",
       "      <td>C. Moore, GSAF</td>\n",
       "      <td>http://sharkattackfile.net/spreadsheets/pdf_di...</td>\n",
       "    </tr>\n",
       "    <tr>\n",
       "      <th>6196</th>\n",
       "      <td>ND-0130</td>\n",
       "      <td>Before 1876</td>\n",
       "      <td>0.0</td>\n",
       "      <td>Unprovoked</td>\n",
       "      <td>LEBANON</td>\n",
       "      <td>NaN</td>\n",
       "      <td>NaN</td>\n",
       "      <td>Collecting fish</td>\n",
       "      <td>Kahlifeh</td>\n",
       "      <td>M</td>\n",
       "      <td>NaN</td>\n",
       "      <td>Posterior thigh bitten</td>\n",
       "      <td>N</td>\n",
       "      <td>NaN</td>\n",
       "      <td>NaN</td>\n",
       "      <td>C. Moore, GSAF</td>\n",
       "      <td>http://sharkattackfile.net/spreadsheets/pdf_di...</td>\n",
       "    </tr>\n",
       "    <tr>\n",
       "      <th>6197</th>\n",
       "      <td>ND-0129</td>\n",
       "      <td>Before 2012</td>\n",
       "      <td>0.0</td>\n",
       "      <td>Unprovoked</td>\n",
       "      <td>SPAIN</td>\n",
       "      <td>Canary Islands</td>\n",
       "      <td>Tenerife</td>\n",
       "      <td>Skin diving</td>\n",
       "      <td>NaN</td>\n",
       "      <td>NaN</td>\n",
       "      <td>NaN</td>\n",
       "      <td>Injury required 16 stitches</td>\n",
       "      <td>N</td>\n",
       "      <td>NaN</td>\n",
       "      <td>NaN</td>\n",
       "      <td>C. Moore, GSAF</td>\n",
       "      <td>http://sharkattackfile.net/spreadsheets/pdf_di...</td>\n",
       "    </tr>\n",
       "  </tbody>\n",
       "</table>\n",
       "<p>105 rows × 17 columns</p>\n",
       "</div>"
      ],
      "text/plain": [
       "       Case Number                  Date    Year        Type         Country  \\\n",
       "136   2017.06.07.R  Reported 07-Jun-2017  2017.0  Unprovoked  UNITED KINGDOM   \n",
       "2718  1988.08.22.a           22-Aug-1988  1988.0  Unprovoked           ITALY   \n",
       "3183  1976.06.02.R  Reported 02-Jun-1976  1976.0    Provoked           ITALY   \n",
       "3229    1975.04.25           25-Apr-1975  1975.0     Invalid           ITALY   \n",
       "3513    1967.08.25           25-Aug-1967  1967.0  Unprovoked           ITALY   \n",
       "...            ...                   ...     ...         ...             ...   \n",
       "6155    1742.12.17           17-Dec-1742  1742.0  Unprovoked             NaN   \n",
       "6156  1738.04.06.R  Reported 06-Apr-1738  1738.0  Unprovoked           ITALY   \n",
       "6193       ND-0134   Between   1951-1963     0.0  Unprovoked          GREECE   \n",
       "6196       ND-0130           Before 1876     0.0  Unprovoked         LEBANON   \n",
       "6197       ND-0129           Before 2012     0.0  Unprovoked           SPAIN   \n",
       "\n",
       "                          Area                        Location  \\\n",
       "136                South Devon                   Bantham Beach   \n",
       "2718              Manfredonia                        Ippocampo   \n",
       "3183  Reggio Calabria Province                        Bovalino   \n",
       "3229            Genoa Province                         Cervara   \n",
       "3513                   Liguria   Marinella Sarzana, La Spezia    \n",
       "...                        ...                             ...   \n",
       "6155                       NaN                    Carlisle Bay   \n",
       "6156                    Sicily               Strait of Messina   \n",
       "6193                       NaN                             NaN   \n",
       "6196                       NaN                             NaN   \n",
       "6197            Canary Islands                        Tenerife   \n",
       "\n",
       "                   Activity                      Name Sex   Age  \\\n",
       "136                Surfing               Rich Thomson    M   30   \n",
       "2718                    NaN                      male    M   16   \n",
       "3183                Fishing           Francisco Pelle    M   46   \n",
       "3229           Scuba diving            Walter Sansoni    M   37   \n",
       "3513  Spearfishing on Scuba  Gian Paolo Porta Casucci    M  NaN   \n",
       "...                     ...                       ...  ...  ...   \n",
       "6155               Swimming        2 impressed seamen    M  NaN   \n",
       "6156               Swimming                      male    M  NaN   \n",
       "6193               Swimming          Martha Hatagouei    F  NaN   \n",
       "6196       Collecting fish                   Kahlifeh    M  NaN   \n",
       "6197            Skin diving                       NaN  NaN  NaN   \n",
       "\n",
       "                                                 Injury Fatal (Y/N) Time  \\\n",
       "136   Bruise to leg, cuts to hand sustained when he ...           N  NaN   \n",
       "2718                                           Survived           N  NaN   \n",
       "3183                Shark rammed boat PROVOKED INCIDENT           N  NaN   \n",
       "3229  The press reported this as an attack by a whit...         NaN  NaN   \n",
       "3513                   Minor injuries to face & forearm           N  NaN   \n",
       "...                                                 ...         ...  ...   \n",
       "6155                                              FATAL           Y  NaN   \n",
       "6156                                              FATAL           Y  NaN   \n",
       "6193                                              FATAL           Y  NaN   \n",
       "6196                             Posterior thigh bitten           N  NaN   \n",
       "6197                        Injury required 16 stitches           N  NaN   \n",
       "\n",
       "                               Species  Investigator or Source  \\\n",
       "136   3m shark, probably a smooth hound         C. Moore, GSAF   \n",
       "2718                                NaN         C. Moore, GSAF   \n",
       "3183                    Blue shark, 2m          C. Moore, GSAF   \n",
       "3229                            Invalid         C. Moore, GSAF   \n",
       "3513                                NaN         C. Moore, GSAF   \n",
       "...                                 ...                    ...   \n",
       "6155                                NaN         C. Moore, GSAF   \n",
       "6156                                NaN         C. Moore, GSAF   \n",
       "6193                                NaN         C. Moore, GSAF   \n",
       "6196                                NaN         C. Moore, GSAF   \n",
       "6197                                NaN         C. Moore, GSAF   \n",
       "\n",
       "                                                   href  \n",
       "136   http://sharkattackfile.net/spreadsheets/pdf_di...  \n",
       "2718  http://sharkattackfile.net/spreadsheets/pdf_di...  \n",
       "3183  http://sharkattackfile.net/spreadsheets/pdf_di...  \n",
       "3229  http://sharkattackfile.net/spreadsheets/pdf_di...  \n",
       "3513  http://sharkattackfile.net/spreadsheets/pdf_di...  \n",
       "...                                                 ...  \n",
       "6155  http://sharkattackfile.net/spreadsheets/pdf_di...  \n",
       "6156  http://sharkattackfile.net/spreadsheets/pdf_di...  \n",
       "6193  http://sharkattackfile.net/spreadsheets/pdf_di...  \n",
       "6196  http://sharkattackfile.net/spreadsheets/pdf_di...  \n",
       "6197  http://sharkattackfile.net/spreadsheets/pdf_di...  \n",
       "\n",
       "[105 rows x 17 columns]"
      ]
     },
     "execution_count": 27,
     "metadata": {},
     "output_type": "execute_result"
    }
   ],
   "source": [
    "lt.valores_iguales(data_filtered_6, \"Investigator or Source\", \"C. Moore, GSAF\")"
   ]
  },
  {
   "cell_type": "code",
   "execution_count": 64,
   "metadata": {},
   "outputs": [
    {
     "ename": "TypeError",
     "evalue": "expected string or bytes-like object",
     "output_type": "error",
     "traceback": [
      "\u001b[1;31m---------------------------------------------------------------------------\u001b[0m",
      "\u001b[1;31mTypeError\u001b[0m                                 Traceback (most recent call last)",
      "\u001b[1;32m<ipython-input-64-ba7b61a320ee>\u001b[0m in \u001b[0;36m<module>\u001b[1;34m\u001b[0m\n\u001b[0;32m      1\u001b[0m \u001b[0mencontrar\u001b[0m \u001b[1;33m=\u001b[0m \u001b[1;34mr'[(D|d)iving]'\u001b[0m\u001b[1;33m\u001b[0m\u001b[1;33m\u001b[0m\u001b[0m\n\u001b[0;32m      2\u001b[0m \u001b[0mlugar\u001b[0m \u001b[1;33m=\u001b[0m \u001b[0mshrk\u001b[0m\u001b[1;33m.\u001b[0m\u001b[0mActivity\u001b[0m\u001b[1;33m\u001b[0m\u001b[1;33m\u001b[0m\u001b[0m\n\u001b[1;32m----> 3\u001b[1;33m \u001b[0mmatches\u001b[0m \u001b[1;33m=\u001b[0m \u001b[0mre\u001b[0m\u001b[1;33m.\u001b[0m\u001b[0mfindall\u001b[0m\u001b[1;33m(\u001b[0m\u001b[0mencontrar\u001b[0m\u001b[1;33m,\u001b[0m \u001b[0mlugar\u001b[0m\u001b[1;33m)\u001b[0m\u001b[1;33m\u001b[0m\u001b[1;33m\u001b[0m\u001b[0m\n\u001b[0m",
      "\u001b[1;32m~\\anaconda3\\lib\\re.py\u001b[0m in \u001b[0;36mfindall\u001b[1;34m(pattern, string, flags)\u001b[0m\n\u001b[0;32m    239\u001b[0m \u001b[1;33m\u001b[0m\u001b[0m\n\u001b[0;32m    240\u001b[0m     Empty matches are included in the result.\"\"\"\n\u001b[1;32m--> 241\u001b[1;33m     \u001b[1;32mreturn\u001b[0m \u001b[0m_compile\u001b[0m\u001b[1;33m(\u001b[0m\u001b[0mpattern\u001b[0m\u001b[1;33m,\u001b[0m \u001b[0mflags\u001b[0m\u001b[1;33m)\u001b[0m\u001b[1;33m.\u001b[0m\u001b[0mfindall\u001b[0m\u001b[1;33m(\u001b[0m\u001b[0mstring\u001b[0m\u001b[1;33m)\u001b[0m\u001b[1;33m\u001b[0m\u001b[1;33m\u001b[0m\u001b[0m\n\u001b[0m\u001b[0;32m    242\u001b[0m \u001b[1;33m\u001b[0m\u001b[0m\n\u001b[0;32m    243\u001b[0m \u001b[1;32mdef\u001b[0m \u001b[0mfinditer\u001b[0m\u001b[1;33m(\u001b[0m\u001b[0mpattern\u001b[0m\u001b[1;33m,\u001b[0m \u001b[0mstring\u001b[0m\u001b[1;33m,\u001b[0m \u001b[0mflags\u001b[0m\u001b[1;33m=\u001b[0m\u001b[1;36m0\u001b[0m\u001b[1;33m)\u001b[0m\u001b[1;33m:\u001b[0m\u001b[1;33m\u001b[0m\u001b[1;33m\u001b[0m\u001b[0m\n",
      "\u001b[1;31mTypeError\u001b[0m: expected string or bytes-like object"
     ]
    }
   ],
   "source": [
    "encontrar = r'[(D|d)iving]'\n",
    "lugar = shrk.Activity\n",
    "matches = re.findall(encontrar, lugar)"
   ]
  },
  {
   "cell_type": "code",
   "execution_count": null,
   "metadata": {},
   "outputs": [],
   "source": []
  }
 ],
 "metadata": {
  "kernelspec": {
   "display_name": "Python 3",
   "language": "python",
   "name": "python3"
  },
  "language_info": {
   "codemirror_mode": {
    "name": "ipython",
    "version": 3
   },
   "file_extension": ".py",
   "mimetype": "text/x-python",
   "name": "python",
   "nbconvert_exporter": "python",
   "pygments_lexer": "ipython3",
   "version": "3.8.5"
  }
 },
 "nbformat": 4,
 "nbformat_minor": 4
}
