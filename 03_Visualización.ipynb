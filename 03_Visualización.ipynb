{
 "cells": [
  {
   "cell_type": "markdown",
   "metadata": {},
   "source": [
    "<img  src=\"https://media.mehrnews.com/d/2019/07/31/4/3194094.jpg\">"
   ]
  },
  {
   "cell_type": "markdown",
   "metadata": {},
   "source": [
    "# Data Visualization"
   ]
  },
  {
   "cell_type": "markdown",
   "metadata": {},
   "source": [
    "### Import the necessary libraries"
   ]
  },
  {
   "cell_type": "code",
   "execution_count": 5,
   "metadata": {},
   "outputs": [],
   "source": [
    "import pandas as pd\n",
    "import src.limpieza_texto as lt\n",
    "import seaborn as sns\n",
    "import matplotlib.pyplot as plt\n",
    "import re\n",
    "import numpy\n",
    "import src.visualizacion as vt"
   ]
  },
  {
   "cell_type": "markdown",
   "metadata": {},
   "source": [
    "### Import the dateframe"
   ]
  },
  {
   "cell_type": "code",
   "execution_count": 6,
   "metadata": {},
   "outputs": [],
   "source": [
    "shrk = pd.read_csv(\"data/midatasetlimpio.csv\")"
   ]
  },
  {
   "cell_type": "code",
   "execution_count": 7,
   "metadata": {
    "scrolled": true
   },
   "outputs": [
    {
     "data": {
      "text/html": [
       "<div>\n",
       "<style scoped>\n",
       "    .dataframe tbody tr th:only-of-type {\n",
       "        vertical-align: middle;\n",
       "    }\n",
       "\n",
       "    .dataframe tbody tr th {\n",
       "        vertical-align: top;\n",
       "    }\n",
       "\n",
       "    .dataframe thead th {\n",
       "        text-align: right;\n",
       "    }\n",
       "</style>\n",
       "<table border=\"1\" class=\"dataframe\">\n",
       "  <thead>\n",
       "    <tr style=\"text-align: right;\">\n",
       "      <th></th>\n",
       "      <th>Unnamed: 0</th>\n",
       "      <th>Case Number</th>\n",
       "      <th>Date</th>\n",
       "      <th>Year</th>\n",
       "      <th>Type</th>\n",
       "      <th>Country</th>\n",
       "      <th>Area</th>\n",
       "      <th>Location</th>\n",
       "      <th>Activity</th>\n",
       "      <th>Name</th>\n",
       "      <th>Sex</th>\n",
       "      <th>Age</th>\n",
       "      <th>Injury</th>\n",
       "      <th>Fatal (Y/N)</th>\n",
       "      <th>Time</th>\n",
       "      <th>Species</th>\n",
       "      <th>Investigator or Source</th>\n",
       "      <th>href</th>\n",
       "    </tr>\n",
       "  </thead>\n",
       "  <tbody>\n",
       "    <tr>\n",
       "      <th>6299</th>\n",
       "      <td>6299</td>\n",
       "      <td>ND.0003</td>\n",
       "      <td>1900-1905</td>\n",
       "      <td>0.0</td>\n",
       "      <td>Unprovoked</td>\n",
       "      <td>USA</td>\n",
       "      <td>North Carolina</td>\n",
       "      <td>Ocracoke Inlet</td>\n",
       "      <td>Swimming</td>\n",
       "      <td>Coast Guard personnel</td>\n",
       "      <td>M</td>\n",
       "      <td>NaN</td>\n",
       "      <td>FATAL</td>\n",
       "      <td>Y</td>\n",
       "      <td>NaN</td>\n",
       "      <td>NaN</td>\n",
       "      <td>F. Schwartz, p.23; C. Creswell, GSAF</td>\n",
       "      <td>http://sharkattackfile.net/spreadsheets/pdf_di...</td>\n",
       "    </tr>\n",
       "    <tr>\n",
       "      <th>6300</th>\n",
       "      <td>6300</td>\n",
       "      <td>ND.0002</td>\n",
       "      <td>1883-1889</td>\n",
       "      <td>0.0</td>\n",
       "      <td>Unprovoked</td>\n",
       "      <td>PANAMA</td>\n",
       "      <td>NaN</td>\n",
       "      <td>Panama Bay 8ºN, 79ºW</td>\n",
       "      <td>NaN</td>\n",
       "      <td>Jules Patterson</td>\n",
       "      <td>M</td>\n",
       "      <td>NaN</td>\n",
       "      <td>FATAL</td>\n",
       "      <td>Y</td>\n",
       "      <td>NaN</td>\n",
       "      <td>NaN</td>\n",
       "      <td>The Sun, 10/20/1938</td>\n",
       "      <td>http://sharkattackfile.net/spreadsheets/pdf_di...</td>\n",
       "    </tr>\n",
       "    <tr>\n",
       "      <th>6301</th>\n",
       "      <td>6301</td>\n",
       "      <td>ND.0001</td>\n",
       "      <td>1845-1853</td>\n",
       "      <td>0.0</td>\n",
       "      <td>Unprovoked</td>\n",
       "      <td>CEYLON (SRI LANKA)</td>\n",
       "      <td>Eastern Province</td>\n",
       "      <td>Below the English fort, Trincomalee</td>\n",
       "      <td>Swimming</td>\n",
       "      <td>male</td>\n",
       "      <td>M</td>\n",
       "      <td>15</td>\n",
       "      <td>FATAL. \"Shark bit him in half, carrying away t...</td>\n",
       "      <td>Y</td>\n",
       "      <td>NaN</td>\n",
       "      <td>NaN</td>\n",
       "      <td>S.W. Baker</td>\n",
       "      <td>http://sharkattackfile.net/spreadsheets/pdf_di...</td>\n",
       "    </tr>\n",
       "  </tbody>\n",
       "</table>\n",
       "</div>"
      ],
      "text/plain": [
       "      Unnamed: 0 Case Number       Date  Year        Type             Country  \\\n",
       "6299        6299     ND.0003  1900-1905   0.0  Unprovoked                 USA   \n",
       "6300        6300     ND.0002  1883-1889   0.0  Unprovoked              PANAMA   \n",
       "6301        6301     ND.0001  1845-1853   0.0  Unprovoked  CEYLON (SRI LANKA)   \n",
       "\n",
       "                  Area                             Location  Activity  \\\n",
       "6299    North Carolina                       Ocracoke Inlet  Swimming   \n",
       "6300               NaN                 Panama Bay 8ºN, 79ºW       NaN   \n",
       "6301  Eastern Province  Below the English fort, Trincomalee  Swimming   \n",
       "\n",
       "                       Name Sex   Age  \\\n",
       "6299  Coast Guard personnel    M  NaN   \n",
       "6300        Jules Patterson    M  NaN   \n",
       "6301                   male    M   15   \n",
       "\n",
       "                                                 Injury Fatal (Y/N) Time  \\\n",
       "6299                                              FATAL           Y  NaN   \n",
       "6300                                              FATAL           Y  NaN   \n",
       "6301  FATAL. \"Shark bit him in half, carrying away t...           Y  NaN   \n",
       "\n",
       "     Species                 Investigator or Source  \\\n",
       "6299      NaN  F. Schwartz, p.23; C. Creswell, GSAF   \n",
       "6300      NaN                   The Sun, 10/20/1938   \n",
       "6301      NaN                            S.W. Baker   \n",
       "\n",
       "                                                   href  \n",
       "6299  http://sharkattackfile.net/spreadsheets/pdf_di...  \n",
       "6300  http://sharkattackfile.net/spreadsheets/pdf_di...  \n",
       "6301  http://sharkattackfile.net/spreadsheets/pdf_di...  "
      ]
     },
     "execution_count": 7,
     "metadata": {},
     "output_type": "execute_result"
    }
   ],
   "source": [
    "shrk.tail(3)"
   ]
  },
  {
   "cell_type": "markdown",
   "metadata": {},
   "source": [
    "## Preliminary conclusions"
   ]
  },
  {
   "cell_type": "markdown",
   "metadata": {},
   "source": [
    "### Risk of death"
   ]
  },
  {
   "cell_type": "code",
   "execution_count": 8,
   "metadata": {},
   "outputs": [],
   "source": [
    "death=lt.df_filtered_best(shrk, \"Fatal (Y/N)\", 2)\n"
   ]
  },
  {
   "cell_type": "code",
   "execution_count": 9,
   "metadata": {},
   "outputs": [
    {
     "data": {
      "text/plain": [
       "N    0.74774\n",
       "Y    0.25226\n",
       "Name: Fatal (Y/N), dtype: float64"
      ]
     },
     "execution_count": 9,
     "metadata": {},
     "output_type": "execute_result"
    }
   ],
   "source": [
    "sex=lt.df_filtered_best(shrk, \"Sex \", 2)\n",
    "sex_2 = lt.df_filtered_best(sex, \"Fatal (Y/N)\", 2)\n",
    "#sex_3 = lt.df_filtered_best(shrk, \"Sex \", 1)\n",
    "#sex_4 =  lt.df_filtered_best(sex_3, \"Fatal (Y/N)\", 2)\n",
    "mujeres = shrk[shrk[\"Sex \"] == \"F\"]\n",
    "mujeres =  lt.df_filtered_best(mujeres, \"Fatal (Y/N)\", 2)\n",
    "mujeres[\"Fatal (Y/N)\"].value_counts(1)\n",
    "hombres = shrk[shrk[\"Sex \"] == \"M\"]\n",
    "hombres =  lt.df_filtered_best(hombres, \"Fatal (Y/N)\", 2)\n",
    "hombres[\"Fatal (Y/N)\"].value_counts(1)"
   ]
  },
  {
   "cell_type": "code",
   "execution_count": 10,
   "metadata": {
    "scrolled": false
   },
   "outputs": [
    {
     "name": "stdout",
     "output_type": "stream",
     "text": [
      "The chance of dying: 24.0%\n"
     ]
    },
    {
     "data": {
      "text/plain": [
       "<AxesSubplot:xlabel='Fatal (Y/N)', ylabel='count'>"
      ]
     },
     "execution_count": 10,
     "metadata": {},
     "output_type": "execute_result"
    },
    {
     "data": {
      "image/png": "[encoded data removed]",
      "text/plain": [
       "<Figure size 432x288 with 1 Axes>"
      ]
     },
     "metadata": {
      "needs_background": "light"
     },
     "output_type": "display_data"
    }
   ],
   "source": [
    "riesgo_muerte = sns.countplot(x=sex_2[\"Fatal (Y/N)\"], hue = sex_2[\"Sex \"], palette=\"ch:s=-.2,r=.6\")\n",
    "\n",
    "por_muertes=shrk[\"Fatal (Y/N)\"].value_counts(1)\n",
    "muerte_h = hombres[\"Fatal (Y/N)\"].value_counts(1)\n",
    "muerte_m = mujeres[\"Fatal (Y/N)\"].value_counts(1)\n",
    "\n",
    "print(f\"The chance of dying: {por_muertes[1].round(2)*100}%\")\n",
    "riesgo_muerte"
   ]
  },
  {
   "cell_type": "code",
   "execution_count": 11,
   "metadata": {},
   "outputs": [],
   "source": [
    "vt.guarda_grafico(riesgo_muerte, \"images/riesgo_muerto.svg\")"
   ]
  },
  {
   "cell_type": "code",
   "execution_count": 12,
   "metadata": {
    "scrolled": true
   },
   "outputs": [
    {
     "name": "stdout",
     "output_type": "stream",
     "text": [
      "Women risk of death: 19.0%\n"
     ]
    },
    {
     "data": {
      "text/plain": [
       "<AxesSubplot:xlabel='Fatal (Y/N)', ylabel='count'>"
      ]
     },
     "execution_count": 12,
     "metadata": {},
     "output_type": "execute_result"
    },
    {
     "data": {
      "image/png": "[encoded data removed]",
      "text/plain": [
       "<Figure size 432x288 with 1 Axes>"
      ]
     },
     "metadata": {
      "needs_background": "light"
     },
     "output_type": "display_data"
    }
   ],
   "source": [
    "muerte_mujeres = sns.countplot(x=mujeres[\"Fatal (Y/N)\"], palette=\"Purples\")\n",
    "vt.guarda_grafico(muerte_mujeres, \"images/muerte_mujeres.svg\")\n",
    "print(f\"Women risk of death: {muerte_m[1].round(2)*100}%\")\n",
    "muerte_mujeres"
   ]
  },
  {
   "cell_type": "code",
   "execution_count": 13,
   "metadata": {},
   "outputs": [
    {
     "ename": "TypeError",
     "evalue": "'AxesSubplot' object is not subscriptable",
     "output_type": "error",
     "traceback": [
      "\u001b[1;31m---------------------------------------------------------------------------\u001b[0m",
      "\u001b[1;31mTypeError\u001b[0m                                 Traceback (most recent call last)",
      "\u001b[1;32m<ipython-input-13-f373e768e89e>\u001b[0m in \u001b[0;36m<module>\u001b[1;34m\u001b[0m\n\u001b[0;32m      1\u001b[0m \u001b[0mmuerte_h\u001b[0m \u001b[1;33m=\u001b[0m \u001b[0msns\u001b[0m\u001b[1;33m.\u001b[0m\u001b[0mcountplot\u001b[0m\u001b[1;33m(\u001b[0m\u001b[0mx\u001b[0m\u001b[1;33m=\u001b[0m\u001b[0mhombres\u001b[0m\u001b[1;33m[\u001b[0m\u001b[1;34m\"Fatal (Y/N)\"\u001b[0m\u001b[1;33m]\u001b[0m\u001b[1;33m,\u001b[0m \u001b[0mpalette\u001b[0m\u001b[1;33m=\u001b[0m\u001b[1;34m\"Blues\"\u001b[0m\u001b[1;33m)\u001b[0m\u001b[1;33m\u001b[0m\u001b[1;33m\u001b[0m\u001b[0m\n\u001b[0;32m      2\u001b[0m \u001b[0mvt\u001b[0m\u001b[1;33m.\u001b[0m\u001b[0mguarda_grafico\u001b[0m\u001b[1;33m(\u001b[0m\u001b[0mmuerte_h\u001b[0m\u001b[1;33m,\u001b[0m\u001b[1;34m\"images/muerte_h.svg\"\u001b[0m\u001b[1;33m)\u001b[0m\u001b[1;33m\u001b[0m\u001b[1;33m\u001b[0m\u001b[0m\n\u001b[1;32m----> 3\u001b[1;33m \u001b[0mprint\u001b[0m\u001b[1;33m(\u001b[0m\u001b[1;34mf\"Men risk of death: {muerte_h[1].round(2)*100}%\"\u001b[0m\u001b[1;33m)\u001b[0m\u001b[1;33m\u001b[0m\u001b[1;33m\u001b[0m\u001b[0m\n\u001b[0m\u001b[0;32m      4\u001b[0m \u001b[0mmuerte_h\u001b[0m\u001b[1;33m\u001b[0m\u001b[1;33m\u001b[0m\u001b[0m\n",
      "\u001b[1;31mTypeError\u001b[0m: 'AxesSubplot' object is not subscriptable"
     ]
    },
    {
     "data": {
      "image/png": "[encoded data removed]",
      "text/plain": [
       "<Figure size 432x288 with 1 Axes>"
      ]
     },
     "metadata": {
      "needs_background": "light"
     },
     "output_type": "display_data"
    }
   ],
   "source": [
    "muerte_h = sns.countplot(x=hombres[\"Fatal (Y/N)\"], palette=\"Blues\")\n",
    "vt.guarda_grafico(muerte_h,\"images/muerte_h.svg\")\n",
    "print(f\"Men risk of death: {muerte_h[1].round(2)*100}%\")\n",
    "muerte_h"
   ]
  },
  {
   "cell_type": "markdown",
   "metadata": {},
   "source": [
    "#### The chance of dying after a shark attack is 24% and is more dangerous for men (25%) than for woman (19%)."
   ]
  },
  {
   "cell_type": "code",
   "execution_count": 115,
   "metadata": {},
   "outputs": [],
   "source": [
    "edad = lt.df_filtered_best(death, \"Age\", 55)\n",
    "#edad[\"Age\"].astype(int)\n",
    "\n",
    "#edad[\"Age\"].mean()\n",
    "\n",
    "#edad = sns.histplot(y=edad.Age, hue=edad[\"Fatal (Y/N)\"])\n",
    "#edad.describe()"
   ]
  },
  {
   "cell_type": "code",
   "execution_count": 192,
   "metadata": {},
   "outputs": [
    {
     "ename": "TypeError",
     "evalue": "The x variable is categorical, but one of ['numeric', 'datetime'] is required",
     "output_type": "error",
     "traceback": [
      "\u001b[1;31m---------------------------------------------------------------------------\u001b[0m",
      "\u001b[1;31mTypeError\u001b[0m                                 Traceback (most recent call last)",
      "\u001b[1;32m<ipython-input-192-1f00bf0f0ed7>\u001b[0m in \u001b[0;36m<module>\u001b[1;34m\u001b[0m\n\u001b[1;32m----> 1\u001b[1;33m \u001b[0medad1\u001b[0m \u001b[1;33m=\u001b[0m \u001b[0msns\u001b[0m\u001b[1;33m.\u001b[0m\u001b[0mkdeplot\u001b[0m\u001b[1;33m(\u001b[0m \u001b[0mx\u001b[0m \u001b[1;33m=\u001b[0m \u001b[0medad\u001b[0m\u001b[1;33m.\u001b[0m\u001b[0mAge\u001b[0m\u001b[1;33m)\u001b[0m\u001b[1;33m\u001b[0m\u001b[1;33m\u001b[0m\u001b[0m\n\u001b[0m",
      "\u001b[1;32m~\\anaconda3\\lib\\site-packages\\seaborn\\_decorators.py\u001b[0m in \u001b[0;36minner_f\u001b[1;34m(*args, **kwargs)\u001b[0m\n\u001b[0;32m     44\u001b[0m             )\n\u001b[0;32m     45\u001b[0m         \u001b[0mkwargs\u001b[0m\u001b[1;33m.\u001b[0m\u001b[0mupdate\u001b[0m\u001b[1;33m(\u001b[0m\u001b[1;33m{\u001b[0m\u001b[0mk\u001b[0m\u001b[1;33m:\u001b[0m \u001b[0marg\u001b[0m \u001b[1;32mfor\u001b[0m \u001b[0mk\u001b[0m\u001b[1;33m,\u001b[0m \u001b[0marg\u001b[0m \u001b[1;32min\u001b[0m \u001b[0mzip\u001b[0m\u001b[1;33m(\u001b[0m\u001b[0msig\u001b[0m\u001b[1;33m.\u001b[0m\u001b[0mparameters\u001b[0m\u001b[1;33m,\u001b[0m \u001b[0margs\u001b[0m\u001b[1;33m)\u001b[0m\u001b[1;33m}\u001b[0m\u001b[1;33m)\u001b[0m\u001b[1;33m\u001b[0m\u001b[1;33m\u001b[0m\u001b[0m\n\u001b[1;32m---> 46\u001b[1;33m         \u001b[1;32mreturn\u001b[0m \u001b[0mf\u001b[0m\u001b[1;33m(\u001b[0m\u001b[1;33m**\u001b[0m\u001b[0mkwargs\u001b[0m\u001b[1;33m)\u001b[0m\u001b[1;33m\u001b[0m\u001b[1;33m\u001b[0m\u001b[0m\n\u001b[0m\u001b[0;32m     47\u001b[0m     \u001b[1;32mreturn\u001b[0m \u001b[0minner_f\u001b[0m\u001b[1;33m\u001b[0m\u001b[1;33m\u001b[0m\u001b[0m\n\u001b[0;32m     48\u001b[0m \u001b[1;33m\u001b[0m\u001b[0m\n",
      "\u001b[1;32m~\\anaconda3\\lib\\site-packages\\seaborn\\distributions.py\u001b[0m in \u001b[0;36mkdeplot\u001b[1;34m(x, y, shade, vertical, kernel, bw, gridsize, cut, clip, legend, cumulative, shade_lowest, cbar, cbar_ax, cbar_kws, ax, weights, hue, palette, hue_order, hue_norm, multiple, common_norm, common_grid, levels, thresh, bw_method, bw_adjust, log_scale, color, fill, data, data2, **kwargs)\u001b[0m\n\u001b[0;32m   1720\u001b[0m     )\n\u001b[0;32m   1721\u001b[0m \u001b[1;33m\u001b[0m\u001b[0m\n\u001b[1;32m-> 1722\u001b[1;33m     \u001b[0mp\u001b[0m\u001b[1;33m.\u001b[0m\u001b[0m_attach\u001b[0m\u001b[1;33m(\u001b[0m\u001b[0max\u001b[0m\u001b[1;33m,\u001b[0m \u001b[0mallowed_types\u001b[0m\u001b[1;33m=\u001b[0m\u001b[1;33m[\u001b[0m\u001b[1;34m\"numeric\"\u001b[0m\u001b[1;33m,\u001b[0m \u001b[1;34m\"datetime\"\u001b[0m\u001b[1;33m]\u001b[0m\u001b[1;33m,\u001b[0m \u001b[0mlog_scale\u001b[0m\u001b[1;33m=\u001b[0m\u001b[0mlog_scale\u001b[0m\u001b[1;33m)\u001b[0m\u001b[1;33m\u001b[0m\u001b[1;33m\u001b[0m\u001b[0m\n\u001b[0m\u001b[0;32m   1723\u001b[0m \u001b[1;33m\u001b[0m\u001b[0m\n\u001b[0;32m   1724\u001b[0m     \u001b[1;32mif\u001b[0m \u001b[0mp\u001b[0m\u001b[1;33m.\u001b[0m\u001b[0munivariate\u001b[0m\u001b[1;33m:\u001b[0m\u001b[1;33m\u001b[0m\u001b[1;33m\u001b[0m\u001b[0m\n",
      "\u001b[1;32m~\\anaconda3\\lib\\site-packages\\seaborn\\_core.py\u001b[0m in \u001b[0;36m_attach\u001b[1;34m(self, obj, allowed_types, log_scale)\u001b[0m\n\u001b[0;32m   1101\u001b[0m                     \u001b[1;34mf\"{allowed_types} is required\"\u001b[0m\u001b[1;33m\u001b[0m\u001b[1;33m\u001b[0m\u001b[0m\n\u001b[0;32m   1102\u001b[0m                 )\n\u001b[1;32m-> 1103\u001b[1;33m                 \u001b[1;32mraise\u001b[0m \u001b[0mTypeError\u001b[0m\u001b[1;33m(\u001b[0m\u001b[0merr\u001b[0m\u001b[1;33m)\u001b[0m\u001b[1;33m\u001b[0m\u001b[1;33m\u001b[0m\u001b[0m\n\u001b[0m\u001b[0;32m   1104\u001b[0m \u001b[1;33m\u001b[0m\u001b[0m\n\u001b[0;32m   1105\u001b[0m             \u001b[1;31m# Register with the matplotlib unit conversion machinery\u001b[0m\u001b[1;33m\u001b[0m\u001b[1;33m\u001b[0m\u001b[1;33m\u001b[0m\u001b[0m\n",
      "\u001b[1;31mTypeError\u001b[0m: The x variable is categorical, but one of ['numeric', 'datetime'] is required"
     ]
    },
    {
     "data": {
      "image/png": "[encoded data removed]",
      "text/plain": [
       "<Figure size 432x288 with 1 Axes>"
      ]
     },
     "metadata": {
      "needs_background": "light"
     },
     "output_type": "display_data"
    }
   ],
   "source": []
  },
  {
   "cell_type": "code",
   "execution_count": 234,
   "metadata": {},
   "outputs": [
    {
     "data": {
      "text/plain": [
       "USA                 0.356526\n",
       "AUSTRALIA           0.214012\n",
       "SOUTH AFRICA        0.092610\n",
       "PAPUA NEW GUINEA    0.021433\n",
       "NEW ZEALAND         0.020473\n",
       "                      ...   \n",
       "PARAGUAY            0.000160\n",
       "KUWAIT              0.000160\n",
       "PUERTO RICO         0.000160\n",
       "RED SEA?            0.000160\n",
       "ARUBA               0.000160\n",
       "Name: Country, Length: 212, dtype: float64"
      ]
     },
     "execution_count": 234,
     "metadata": {},
     "output_type": "execute_result"
    }
   ],
   "source": [
    "shrk.Country.value_counts(1)"
   ]
  },
  {
   "cell_type": "code",
   "execution_count": 233,
   "metadata": {},
   "outputs": [
    {
     "data": {
      "image/png": "[encoded data removed]",
      "text/plain": [
       "<Figure size 432x288 with 1 Axes>"
      ]
     },
     "metadata": {
      "needs_background": "light"
     },
     "output_type": "display_data"
    }
   ],
   "source": [
    "pais = lt.df_filtered_best(shrk, \"Country\", 10)\n",
    "pais_m=sns.countplot(x=pais.Country, palette=\"flare\")\n",
    "vt.rotar_labels(pais_m, 40)\n",
    "vt.guarda_grafico(pais_m, \"images/pais_m.svg\")"
   ]
  },
  {
   "cell_type": "code",
   "execution_count": 239,
   "metadata": {},
   "outputs": [
    {
     "data": {
      "image/png": "[encoded data removed]",
      "text/plain": [
       "<Figure size 432x288 with 1 Axes>"
      ]
     },
     "metadata": {
      "needs_background": "light"
     },
     "output_type": "display_data"
    }
   ],
   "source": [
    "pais_a = pais[pais[\"Year\"]>1200]\n",
    "pais_an=sns.scatterplot(x=pais_a.Year, y=pais_a.Country, color=\"red\")\n",
    "vt.guarda_grafico(pais_an,\"images/pais_an.svg\")"
   ]
  },
  {
   "cell_type": "code",
   "execution_count": 249,
   "metadata": {},
   "outputs": [
    {
     "data": {
      "image/png": "[encoded data removed]",
      "text/plain": [
       "<Figure size 432x288 with 1 Axes>"
      ]
     },
     "metadata": {
      "needs_background": "light"
     },
     "output_type": "display_data"
    }
   ],
   "source": [
    "box_a = sns.boxplot(x=pais_a.Year, color=\"red\")\n",
    "vt.guarda_grafico(box_a, \"images/box_a.svg\")"
   ]
  },
  {
   "cell_type": "markdown",
   "metadata": {},
   "source": [
    "## Most dangerous species\n"
   ]
  },
  {
   "cell_type": "code",
   "execution_count": 14,
   "metadata": {
    "scrolled": true
   },
   "outputs": [
    {
     "data": {
      "text/plain": [
       "White shark                                           0.047055\n",
       "Shark involvement prior to death was not confirmed    0.030312\n",
       "Invalid                                               0.029446\n",
       "Shark involvement not confirmed                       0.025404\n",
       "Tiger shark                                           0.021074\n",
       "Shark involvement prior to death unconfirmed          0.019630\n",
       "Bull shark                                            0.015012\n",
       "4' shark                                              0.011547\n",
       "6' shark                                              0.011547\n",
       "1.8 m [6'] shark                                      0.010104\n",
       "Questionable incident                                 0.010104\n",
       "Questionable                                          0.009815\n",
       "1.5 m [5'] shark                                      0.009238\n",
       "1.2 m [4'] shark                                      0.007794\n",
       "3' shark                                              0.007506\n",
       "Name: Species , dtype: float64"
      ]
     },
     "execution_count": 14,
     "metadata": {},
     "output_type": "execute_result"
    }
   ],
   "source": [
    "tib = shrk[\"Species \"].value_counts(1)\n",
    "tib[:15]"
   ]
  },
  {
   "cell_type": "code",
   "execution_count": 15,
   "metadata": {
    "scrolled": true
   },
   "outputs": [
    {
     "data": {
      "image/png": "[encoded data removed]",
      "text/plain": [
       "<Figure size 432x288 with 1 Axes>"
      ]
     },
     "metadata": {
      "needs_background": "light"
     },
     "output_type": "display_data"
    }
   ],
   "source": [
    "w = shrk[shrk[\"Species \"] == \"White shark\"]\n",
    "t = shrk[shrk[\"Species \"] == \"Tiger shark\"]\n",
    "b = shrk[shrk[\"Species \"] == \"Bull shark\"]\n",
    "especies = pd.concat([w,t,b])\n",
    "especies_p = sns.countplot(x=especies[\"Species \"], palette=\"Reds\")\n",
    "vt.guarda_grafico(especies_p, \"images/especies_p.svg\")\n"
   ]
  },
  {
   "cell_type": "code",
   "execution_count": 16,
   "metadata": {},
   "outputs": [
    {
     "data": {
      "image/png": "[encoded data removed]",
      "text/plain": [
       "<Figure size 432x288 with 1 Axes>"
      ]
     },
     "metadata": {
      "needs_background": "light"
     },
     "output_type": "display_data"
    }
   ],
   "source": [
    "w_a = lt.df_filtered_best(w, \"Activity\", 10)\n",
    "especies_act = sns.countplot(y= w_a.Activity, palette=\"Oranges\")\n",
    "vt.guarda_grafico(especies_act, \"images/especies_act.svg\")"
   ]
  },
  {
   "cell_type": "code",
   "execution_count": 17,
   "metadata": {},
   "outputs": [
    {
     "data": {
      "image/png": "[encoded data removed]",
      "text/plain": [
       "<Figure size 432x288 with 1 Axes>"
      ]
     },
     "metadata": {
      "needs_background": "light"
     },
     "output_type": "display_data"
    }
   ],
   "source": [
    "especies_act = lt.df_filtered_best(especies, \"Activity\", 10)\n",
    "esp_act = sns.scatterplot(x=especies_act[\"Species \"], y=especies_act[\"Activity\"])\n",
    "vt.guarda_grafico(esp_act, \"images/esp_act.svg\")"
   ]
  },
  {
   "cell_type": "markdown",
   "metadata": {},
   "source": [
    "### Focusing on the main hypotheses of the study, we created graphs to help us explain the results."
   ]
  },
  {
   "cell_type": "markdown",
   "metadata": {},
   "source": [
    "## Hypothesis 1\n",
    "#### Relation between `attacks` and `activity`"
   ]
  },
  {
   "cell_type": "markdown",
   "metadata": {},
   "source": [
    "I use the `.value_counts()` function to see how many different types of activities there are within the table."
   ]
  },
  {
   "cell_type": "code",
   "execution_count": 18,
   "metadata": {},
   "outputs": [
    {
     "data": {
      "text/plain": [
       "Surfing                                                                                                                                                  0.168635\n",
       "Swimming                                                                                                                                                 0.150920\n",
       "Fishing                                                                                                                                                  0.074852\n",
       "Spearfishing                                                                                                                                             0.057833\n",
       "Bathing                                                                                                                                                  0.028135\n",
       "                                                                                                                                                           ...   \n",
       "The World Liberty and the tanker Mosli collided. The  Halcyon Breeze sent a lifeboat to the rescue, but it was smashed, throwing 6 men in the  water.    0.000174\n",
       "In waist-deep water                                                                                                                                      0.000174\n",
       "Skin diving. Grabbed shark's tail; shark turned & grabbed diver's ankle & began towing him to deep water                                                 0.000174\n",
       "Anti-sabotage night dive exercise alongside destroyer (Scuba diving)                                                                                     0.000174\n",
       "Standing on sandbar                                                                                                                                      0.000174\n",
       "Name: Activity, Length: 1532, dtype: float64"
      ]
     },
     "execution_count": 18,
     "metadata": {},
     "output_type": "execute_result"
    }
   ],
   "source": [
    "shrk.Activity.value_counts(1)"
   ]
  },
  {
   "cell_type": "markdown",
   "metadata": {},
   "source": [
    "There are 1,532 different types of activities. Therefore, we focus on all those that account for more than 1% of the total cases."
   ]
  },
  {
   "cell_type": "code",
   "execution_count": 19,
   "metadata": {
    "scrolled": false
   },
   "outputs": [
    {
     "data": {
      "image/png": "[encoded data removed]",
      "text/plain": [
       "<Figure size 432x288 with 1 Axes>"
      ]
     },
     "metadata": {
      "needs_background": "light"
     },
     "output_type": "display_data"
    }
   ],
   "source": [
    "top_act = lt.df_filtered_best(shrk, \"Activity\", 12)\n",
    "act_risky = sns.countplot(y=top_act.Activity,palette=\"Reds\")\n",
    "\n",
    "vt.guarda_grafico(act_risky, \"images/act_risky.svg\")"
   ]
  },
  {
   "cell_type": "code",
   "execution_count": 49,
   "metadata": {},
   "outputs": [
    {
     "ename": "AttributeError",
     "evalue": "'tuple' object has no attribute 'savefig'",
     "output_type": "error",
     "traceback": [
      "\u001b[1;31m---------------------------------------------------------------------------\u001b[0m",
      "\u001b[1;31mAttributeError\u001b[0m                            Traceback (most recent call last)",
      "\u001b[1;32m<ipython-input-49-97c5e56cc5d4>\u001b[0m in \u001b[0;36m<module>\u001b[1;34m\u001b[0m\n\u001b[0;32m      2\u001b[0m \u001b[0mta2\u001b[0m \u001b[1;33m=\u001b[0m \u001b[0mpd\u001b[0m\u001b[1;33m.\u001b[0m\u001b[0mDataFrame\u001b[0m\u001b[1;33m(\u001b[0m\u001b[0mta\u001b[0m\u001b[1;33m)\u001b[0m\u001b[1;33m\u001b[0m\u001b[1;33m\u001b[0m\u001b[0m\n\u001b[0;32m      3\u001b[0m \u001b[0mact_risky_3\u001b[0m \u001b[1;33m=\u001b[0m \u001b[0mplt\u001b[0m\u001b[1;33m.\u001b[0m\u001b[0mpie\u001b[0m\u001b[1;33m(\u001b[0m\u001b[0mta2\u001b[0m\u001b[1;33m.\u001b[0m\u001b[0mActivity\u001b[0m\u001b[1;33m,\u001b[0m \u001b[0mlabels\u001b[0m\u001b[1;33m=\u001b[0m\u001b[0mta\u001b[0m\u001b[1;33m.\u001b[0m\u001b[0mindex\u001b[0m\u001b[1;33m)\u001b[0m\u001b[1;33m\u001b[0m\u001b[1;33m\u001b[0m\u001b[0m\n\u001b[1;32m----> 4\u001b[1;33m \u001b[0mact_risky_3\u001b[0m\u001b[1;33m.\u001b[0m\u001b[0msavefig\u001b[0m\u001b[1;33m(\u001b[0m\u001b[1;34m\"images/act_risky_2.svg\"\u001b[0m\u001b[1;33m)\u001b[0m\u001b[1;33m\u001b[0m\u001b[1;33m\u001b[0m\u001b[0m\n\u001b[0m\u001b[0;32m      5\u001b[0m \u001b[1;33m\u001b[0m\u001b[0m\n\u001b[0;32m      6\u001b[0m \u001b[1;31m#vt.guarda_grafico(act_risky_2,\"images/act_risky_2.svg\")\u001b[0m\u001b[1;33m\u001b[0m\u001b[1;33m\u001b[0m\u001b[1;33m\u001b[0m\u001b[0m\n",
      "\u001b[1;31mAttributeError\u001b[0m: 'tuple' object has no attribute 'savefig'"
     ]
    },
    {
     "data": {
      "image/png": "[encoded data removed]",
      "text/plain": [
       "<Figure size 432x288 with 1 Axes>"
      ]
     },
     "metadata": {},
     "output_type": "display_data"
    }
   ],
   "source": [
    "ta = top_act.Activity.value_counts(1)\n",
    "ta2 = pd.DataFrame(ta)\n",
    "act_risky_3 = plt.pie(ta2.Activity, labels=ta.index)\n",
    "act_risky_3.savefig(\"images/act_risky_2.svg\")\n",
    "\n",
    "#vt.guarda_grafico(act_risky_2,\"images/act_risky_2.svg\")"
   ]
  },
  {
   "cell_type": "markdown",
   "metadata": {},
   "source": [
    "This are the most risky activities."
   ]
  },
  {
   "cell_type": "code",
   "execution_count": 30,
   "metadata": {},
   "outputs": [
    {
     "data": {
      "text/plain": [
       "<AxesSubplot:xlabel='Activity', ylabel='count'>"
      ]
     },
     "execution_count": 30,
     "metadata": {},
     "output_type": "execute_result"
    },
    {
     "data": {
      "image/png": "[encoded data removed]",
      "text/plain": [
       "<Figure size 432x288 with 1 Axes>"
      ]
     },
     "metadata": {
      "needs_background": "light"
     },
     "output_type": "display_data"
    }
   ],
   "source": [
    "top_act_s = lt.df_filtered_best(top_act, \"Sex \", 2)\n",
    "top_act2 = sns.countplot(x = top_act_s.Activity, hue =top_act_s[\"Sex \"], palette=\"dark:salmon_r\")\n",
    "top_act2.set_xticklabels(top_act2.get_xticklabels(), rotation=40)\n",
    "vt.guarda_grafico(top_act2,\"images/top_act3.svg\")\n",
    "top_act2"
   ]
  },
  {
   "cell_type": "code",
   "execution_count": 22,
   "metadata": {},
   "outputs": [
    {
     "data": {
      "text/plain": [
       "<AxesSubplot:xlabel='Activity', ylabel='count'>"
      ]
     },
     "execution_count": 22,
     "metadata": {},
     "output_type": "execute_result"
    }
   ],
   "source": [
    "vt.rotar_labels(top_act2,90)\n",
    "top_act2"
   ]
  },
  {
   "cell_type": "markdown",
   "metadata": {},
   "source": [
    "From this graph we can deduce that men are more likely to suffer a stroke than women.\n",
    "\n",
    "The most dangerous activity for men is `Surfing` while `Swimming` is the most risky for women.\n"
   ]
  },
  {
   "cell_type": "code",
   "execution_count": 26,
   "metadata": {},
   "outputs": [
    {
     "data": {
      "image/png": "[encoded data removed]",
      "text/plain": [
       "<Figure size 432x288 with 1 Axes>"
      ]
     },
     "metadata": {
      "needs_background": "light"
     },
     "output_type": "display_data"
    }
   ],
   "source": [
    "act_pel = lt.df_filtered_best(top_act, \"Fatal (Y/N)\", 2)\n",
    "peligro = sns.countplot(y = act_pel.Activity, hue = act_pel[\"Fatal (Y/N)\"], palette=\"Reds\")\n"
   ]
  },
  {
   "cell_type": "code",
   "execution_count": 27,
   "metadata": {},
   "outputs": [],
   "source": [
    "vt.guarda_grafico(peligro, \"images/peligro.svg\")"
   ]
  },
  {
   "cell_type": "code",
   "execution_count": 46,
   "metadata": {},
   "outputs": [
    {
     "data": {
      "text/plain": [
       "N    0.885086\n",
       "Y    0.114914\n",
       "Name: Fatal (Y/N), dtype: float64"
      ]
     },
     "execution_count": 46,
     "metadata": {},
     "output_type": "execute_result"
    }
   ],
   "source": [
    "act_pel2 = act_pel[act_pel[\"Activity\"] == \"Fishing\"]\n",
    "act_pel2[\"Fatal (Y/N)\"].value_counts(1)"
   ]
  },
  {
   "cell_type": "code",
   "execution_count": 43,
   "metadata": {},
   "outputs": [
    {
     "data": {
      "text/plain": [
       "Swimming         304\n",
       "Bathing           70\n",
       "Surfing           49\n",
       "Fishing           47\n",
       "Spearfishing      41\n",
       "Diving            19\n",
       "Standing          16\n",
       "Body boarding     14\n",
       "Wading            13\n",
       "Scuba diving      13\n",
       "Snorkeling        11\n",
       "Body surfing       6\n",
       "Name: Activity, dtype: int64"
      ]
     },
     "execution_count": 43,
     "metadata": {},
     "output_type": "execute_result"
    }
   ],
   "source": [
    "act_pel3 = act_pel[act_pel[\"Fatal (Y/N)\"] == \"Y\"]\n",
    "act_pel3[\"Activity\"].value_counts()"
   ]
  },
  {
   "cell_type": "markdown",
   "metadata": {},
   "source": [
    "## Hypothesis 2\n",
    "#### How many `researchers` there are and how much research they have carried out. Is there a shark attack specialist?"
   ]
  },
  {
   "cell_type": "code",
   "execution_count": 156,
   "metadata": {
    "scrolled": false
   },
   "outputs": [
    {
     "data": {
      "text/plain": [
       "array(['R. Collier, GSAF', 'K.McMurray, TrackingSharks.com',\n",
       "       'B. Myatt, GSAF', ..., 'F. Schwartz, p.23; C. Creswell, GSAF',\n",
       "       'The Sun, 10/20/1938', 'S.W. Baker'], dtype=object)"
      ]
     },
     "execution_count": 156,
     "metadata": {},
     "output_type": "execute_result"
    }
   ],
   "source": [
    "shrk[\"Investigator or Source\"].unique()"
   ]
  },
  {
   "cell_type": "code",
   "execution_count": null,
   "metadata": {},
   "outputs": [],
   "source": []
  },
  {
   "cell_type": "code",
   "execution_count": 144,
   "metadata": {
    "scrolled": true
   },
   "outputs": [
    {
     "data": {
      "text/plain": [
       "C. Moore, GSAF                                     105\n",
       "C. Creswell, GSAF                                   92\n",
       "S. Petersohn, GSAF                                  82\n",
       "R. Collier                                          55\n",
       "R. Collier, GSAF                                    48\n",
       "T. Peake, GSAF                                      48\n",
       "M. Levine, GSAF                                     45\n",
       "A. Gifford, GSAF                                    28\n",
       "C. Moore. GSAF                                      27\n",
       "B. Myatt, GSAF                                      26\n",
       "GSAF                                                23\n",
       "M. Vorenberg, GSAF                                  20\n",
       "E. Pace, FSAF                                       20\n",
       "G. Van Grevelynghe                                  19\n",
       "E. Ritter, GSAF                                     19\n",
       "JCOnline                                            16\n",
       "W. Leander                                          14\n",
       "J. Green, p.36                                      14\n",
       "C. Johansson, GSAF                                  14\n",
       "R.D. Weeks, GSAF                                    12\n",
       "K. Nakaya                                           12\n",
       "S. Petersohn                                        12\n",
       "C. Creswell                                         11\n",
       "C. Black, GSAF                                      11\n",
       "Hawaii Department of Land and Natural Resources     11\n",
       "C. Eksander, GSAF                                   10\n",
       "MEDSAF                                              10\n",
       "B.W. Coad & L.A.J. Al-Hassan                        10\n",
       "R. McKenzie, Sunday Mail, 9/6/1987, p.11             9\n",
       "J. Eager, scubaradio.com                             9\n",
       "B. Coad                                              8\n",
       "C.Moore, GSAF                                        8\n",
       "Name: Investigator or Source, dtype: int64"
      ]
     },
     "execution_count": 144,
     "metadata": {},
     "output_type": "execute_result"
    }
   ],
   "source": [
    "a = shrk[\"Investigator or Source\"].value_counts()\n",
    "a[:32]\n"
   ]
  },
  {
   "cell_type": "code",
   "execution_count": 140,
   "metadata": {
    "scrolled": true
   },
   "outputs": [
    {
     "data": {
      "image/png": "[encoded data removed]",
      "text/plain": [
       "<Figure size 432x288 with 1 Axes>"
      ]
     },
     "metadata": {
      "needs_background": "light"
     },
     "output_type": "display_data"
    }
   ],
   "source": [
    "top_invest = lt.df_filtered_best(shrk, \"Investigator or Source\", 10)\n",
    "invest = sns.countplot(y=top_invest[\"Investigator or Source\"], palette=\"coolwarm\")\n",
    "vt.guarda_grafico(invest, \"images/invest.svg\")"
   ]
  },
  {
   "cell_type": "code",
   "execution_count": 184,
   "metadata": {
    "scrolled": true
   },
   "outputs": [
    {
     "data": {
      "text/html": [
       "<div>\n",
       "<style scoped>\n",
       "    .dataframe tbody tr th:only-of-type {\n",
       "        vertical-align: middle;\n",
       "    }\n",
       "\n",
       "    .dataframe tbody tr th {\n",
       "        vertical-align: top;\n",
       "    }\n",
       "\n",
       "    .dataframe thead th {\n",
       "        text-align: right;\n",
       "    }\n",
       "</style>\n",
       "<table border=\"1\" class=\"dataframe\">\n",
       "  <thead>\n",
       "    <tr style=\"text-align: right;\">\n",
       "      <th></th>\n",
       "      <th>Unnamed: 0</th>\n",
       "      <th>Case Number</th>\n",
       "      <th>Date</th>\n",
       "      <th>Year</th>\n",
       "      <th>Type</th>\n",
       "      <th>Country</th>\n",
       "      <th>Area</th>\n",
       "      <th>Location</th>\n",
       "      <th>Activity</th>\n",
       "      <th>Name</th>\n",
       "      <th>Sex</th>\n",
       "      <th>Age</th>\n",
       "      <th>Injury</th>\n",
       "      <th>Fatal (Y/N)</th>\n",
       "      <th>Time</th>\n",
       "      <th>Species</th>\n",
       "      <th>Investigator or Source</th>\n",
       "      <th>href</th>\n",
       "      <th>Invest</th>\n",
       "    </tr>\n",
       "  </thead>\n",
       "  <tbody>\n",
       "    <tr>\n",
       "      <th>136</th>\n",
       "      <td>136</td>\n",
       "      <td>2017.06.07.R</td>\n",
       "      <td>Reported 07-Jun-2017</td>\n",
       "      <td>2017.0</td>\n",
       "      <td>Unprovoked</td>\n",
       "      <td>UNITED KINGDOM</td>\n",
       "      <td>South Devon</td>\n",
       "      <td>Bantham Beach</td>\n",
       "      <td>Surfing</td>\n",
       "      <td>Rich Thomson</td>\n",
       "      <td>M</td>\n",
       "      <td>30</td>\n",
       "      <td>Bruise to leg, cuts to hand sustained when he ...</td>\n",
       "      <td>N</td>\n",
       "      <td>NaN</td>\n",
       "      <td>3m shark, probably a smooth hound</td>\n",
       "      <td>C. Moore, GSAF</td>\n",
       "      <td>http://sharkattackfile.net/spreadsheets/pdf_di...</td>\n",
       "      <td>Moore</td>\n",
       "    </tr>\n",
       "    <tr>\n",
       "      <th>2694</th>\n",
       "      <td>2694</td>\n",
       "      <td>1989.02.02</td>\n",
       "      <td>02-Feb-1989</td>\n",
       "      <td>1989.0</td>\n",
       "      <td>Unprovoked</td>\n",
       "      <td>ITALY</td>\n",
       "      <td>Tyrrhenian Sea</td>\n",
       "      <td>Golfo di Baratti, near Piombino (Tuscany)</td>\n",
       "      <td>Scuba diving, but swimming on surface</td>\n",
       "      <td>Luciano Costanzo</td>\n",
       "      <td>M</td>\n",
       "      <td>47</td>\n",
       "      <td>FATAL. His body not recovered</td>\n",
       "      <td>Y</td>\n",
       "      <td>10h25</td>\n",
       "      <td>6 m [20'] white shark</td>\n",
       "      <td>A. De Maddalena; Cappelletti (1989a), Bertucce...</td>\n",
       "      <td>http://sharkattackfile.net/spreadsheets/pdf_di...</td>\n",
       "      <td>Moore</td>\n",
       "    </tr>\n",
       "    <tr>\n",
       "      <th>2718</th>\n",
       "      <td>2718</td>\n",
       "      <td>1988.08.22.a</td>\n",
       "      <td>22-Aug-1988</td>\n",
       "      <td>1988.0</td>\n",
       "      <td>Unprovoked</td>\n",
       "      <td>ITALY</td>\n",
       "      <td>Manfredonia</td>\n",
       "      <td>Ippocampo</td>\n",
       "      <td>NaN</td>\n",
       "      <td>male</td>\n",
       "      <td>M</td>\n",
       "      <td>16</td>\n",
       "      <td>Survived</td>\n",
       "      <td>N</td>\n",
       "      <td>NaN</td>\n",
       "      <td>NaN</td>\n",
       "      <td>C. Moore, GSAF</td>\n",
       "      <td>http://sharkattackfile.net/spreadsheets/pdf_di...</td>\n",
       "      <td>Moore</td>\n",
       "    </tr>\n",
       "  </tbody>\n",
       "</table>\n",
       "</div>"
      ],
      "text/plain": [
       "      Unnamed: 0   Case Number                  Date    Year        Type  \\\n",
       "136          136  2017.06.07.R  Reported 07-Jun-2017  2017.0  Unprovoked   \n",
       "2694        2694    1989.02.02           02-Feb-1989  1989.0  Unprovoked   \n",
       "2718        2718  1988.08.22.a           22-Aug-1988  1988.0  Unprovoked   \n",
       "\n",
       "             Country            Area  \\\n",
       "136   UNITED KINGDOM     South Devon   \n",
       "2694           ITALY  Tyrrhenian Sea   \n",
       "2718           ITALY    Manfredonia    \n",
       "\n",
       "                                       Location  \\\n",
       "136                               Bantham Beach   \n",
       "2694  Golfo di Baratti, near Piombino (Tuscany)   \n",
       "2718                                  Ippocampo   \n",
       "\n",
       "                                   Activity              Name Sex  Age  \\\n",
       "136                                Surfing       Rich Thomson    M  30   \n",
       "2694  Scuba diving, but swimming on surface  Luciano Costanzo    M  47   \n",
       "2718                                    NaN              male    M  16   \n",
       "\n",
       "                                                 Injury Fatal (Y/N)   Time  \\\n",
       "136   Bruise to leg, cuts to hand sustained when he ...           N    NaN   \n",
       "2694                      FATAL. His body not recovered           Y  10h25   \n",
       "2718                                           Survived           N    NaN   \n",
       "\n",
       "                               Species   \\\n",
       "136   3m shark, probably a smooth hound   \n",
       "2694              6 m [20'] white shark   \n",
       "2718                                NaN   \n",
       "\n",
       "                                 Investigator or Source  \\\n",
       "136                                      C. Moore, GSAF   \n",
       "2694  A. De Maddalena; Cappelletti (1989a), Bertucce...   \n",
       "2718                                     C. Moore, GSAF   \n",
       "\n",
       "                                                   href Invest  \n",
       "136   http://sharkattackfile.net/spreadsheets/pdf_di...  Moore  \n",
       "2694  http://sharkattackfile.net/spreadsheets/pdf_di...  Moore  \n",
       "2718  http://sharkattackfile.net/spreadsheets/pdf_di...  Moore  "
      ]
     },
     "execution_count": 184,
     "metadata": {},
     "output_type": "execute_result"
    }
   ],
   "source": [
    "\n",
    "shrk[\"Invest\"]=shrk[\"Investigator or Source\"].str.extract(r'(Moore)')\n",
    "moore = shrk[shrk[\"Invest\"] == \"Moore\"]\n",
    "moore.head(3)"
   ]
  },
  {
   "cell_type": "code",
   "execution_count": 186,
   "metadata": {
    "scrolled": false
   },
   "outputs": [
    {
     "data": {
      "text/plain": [
       "ITALY              0.213415\n",
       "SPAIN              0.152439\n",
       "CROATIA            0.146341\n",
       "TURKEY             0.073171\n",
       "ENGLAND            0.054878\n",
       "GREECE             0.054878\n",
       "EGYPT              0.036585\n",
       "ISRAEL             0.030488\n",
       "FRANCE             0.030488\n",
       "UNITED KINGDOM     0.024390\n",
       "USA                0.012195\n",
       "TOBAGO             0.012195\n",
       "PORTUGAL           0.012195\n",
       "CAPE VERDE         0.012195\n",
       "GUYANA             0.006098\n",
       "LEBANON            0.006098\n",
       "ALGERIA            0.006098\n",
       "SYRIA              0.006098\n",
       "MONTENEGRO         0.006098\n",
       "MARTINIQUE         0.006098\n",
       "SWEDEN             0.006098\n",
       "AUSTRALIA          0.006098\n",
       "MEXICO             0.006098\n",
       "CRETE              0.006098\n",
       "REUNION ISLAND     0.006098\n",
       "SCOTLAND           0.006098\n",
       "NORWAY             0.006098\n",
       "ITALY / CROATIA    0.006098\n",
       "INDONESIA          0.006098\n",
       "TUNISIA            0.006098\n",
       "MALTA              0.006098\n",
       "AZORES             0.006098\n",
       "CHINA              0.006098\n",
       "ROATAN             0.006098\n",
       "THE BALKANS        0.006098\n",
       "PHILIPPINES        0.006098\n",
       "Name: Country, dtype: float64"
      ]
     },
     "execution_count": 186,
     "metadata": {},
     "output_type": "execute_result"
    }
   ],
   "source": [
    "moore.Country.value_counts(1)"
   ]
  },
  {
   "cell_type": "code",
   "execution_count": 183,
   "metadata": {
    "scrolled": true
   },
   "outputs": [
    {
     "data": {
      "image/png": "[encoded data removed]",
      "text/plain": [
       "<Figure size 1080x648 with 1 Axes>"
      ]
     },
     "metadata": {
      "needs_background": "light"
     },
     "output_type": "display_data"
    }
   ],
   "source": [
    "plt.figure(figsize=(15,9))\n",
    "           \n",
    "moore_pais=sns.countplot(x = moore.Country, palette=\"Greens\")\n",
    "vt.rotar_labels(moore_pais,45)\n",
    "vt.guarda_grafico(moore_pais, \"images/moore_pais.svg\")"
   ]
  },
  {
   "cell_type": "code",
   "execution_count": 242,
   "metadata": {
    "scrolled": true
   },
   "outputs": [
    {
     "data": {
      "text/html": [
       "<div>\n",
       "<style scoped>\n",
       "    .dataframe tbody tr th:only-of-type {\n",
       "        vertical-align: middle;\n",
       "    }\n",
       "\n",
       "    .dataframe tbody tr th {\n",
       "        vertical-align: top;\n",
       "    }\n",
       "\n",
       "    .dataframe thead th {\n",
       "        text-align: right;\n",
       "    }\n",
       "</style>\n",
       "<table border=\"1\" class=\"dataframe\">\n",
       "  <thead>\n",
       "    <tr style=\"text-align: right;\">\n",
       "      <th></th>\n",
       "      <th>Unnamed: 0</th>\n",
       "      <th>Case Number</th>\n",
       "      <th>Date</th>\n",
       "      <th>Year</th>\n",
       "      <th>Type</th>\n",
       "      <th>Country</th>\n",
       "      <th>Area</th>\n",
       "      <th>Location</th>\n",
       "      <th>Activity</th>\n",
       "      <th>Name</th>\n",
       "      <th>Sex</th>\n",
       "      <th>Age</th>\n",
       "      <th>Injury</th>\n",
       "      <th>Fatal (Y/N)</th>\n",
       "      <th>Time</th>\n",
       "      <th>Species</th>\n",
       "      <th>Investigator or Source</th>\n",
       "      <th>href</th>\n",
       "      <th>Invest</th>\n",
       "    </tr>\n",
       "  </thead>\n",
       "  <tbody>\n",
       "    <tr>\n",
       "      <th>11</th>\n",
       "      <td>11</td>\n",
       "      <td>2018.05.21</td>\n",
       "      <td>21-May-2018</td>\n",
       "      <td>2018.0</td>\n",
       "      <td>Unprovoked</td>\n",
       "      <td>USA</td>\n",
       "      <td>South Carolina</td>\n",
       "      <td>Isle of Palms,  Charleston County</td>\n",
       "      <td>Boogie boarding</td>\n",
       "      <td>Trey de Boer</td>\n",
       "      <td>M</td>\n",
       "      <td>10</td>\n",
       "      <td>Injuries to lower right leg and foot</td>\n",
       "      <td>N</td>\n",
       "      <td>NaN</td>\n",
       "      <td>NaN</td>\n",
       "      <td>C. Creswell, GSAF</td>\n",
       "      <td>http://sharkattackfile.net/spreadsheets/pdf_di...</td>\n",
       "      <td>Creswell</td>\n",
       "    </tr>\n",
       "    <tr>\n",
       "      <th>12</th>\n",
       "      <td>12</td>\n",
       "      <td>2018.05.13.b</td>\n",
       "      <td>13-May-2018</td>\n",
       "      <td>2018.0</td>\n",
       "      <td>Unprovoked</td>\n",
       "      <td>USA</td>\n",
       "      <td>South Carolina</td>\n",
       "      <td>Hilton Head Island, Beaufort County</td>\n",
       "      <td>Swimming</td>\n",
       "      <td>Jei Turrell</td>\n",
       "      <td>M</td>\n",
       "      <td>10</td>\n",
       "      <td>Severe bite to right forearm</td>\n",
       "      <td>N</td>\n",
       "      <td>15h00</td>\n",
       "      <td>NaN</td>\n",
       "      <td>C. Creswell, GSAF &amp; K. McMurray TrackingSharks...</td>\n",
       "      <td>http://sharkattackfile.net/spreadsheets/pdf_di...</td>\n",
       "      <td>Creswell</td>\n",
       "    </tr>\n",
       "    <tr>\n",
       "      <th>102</th>\n",
       "      <td>102</td>\n",
       "      <td>2017.08.10</td>\n",
       "      <td>10-Aug-2017</td>\n",
       "      <td>2017.0</td>\n",
       "      <td>Unprovoked</td>\n",
       "      <td>USA</td>\n",
       "      <td>South Carolina</td>\n",
       "      <td>Sea Pines Resort, Hilton Head Island, Beaufort...</td>\n",
       "      <td>Swimming</td>\n",
       "      <td>Linton Suttle</td>\n",
       "      <td>M</td>\n",
       "      <td>13</td>\n",
       "      <td>Minor cuts to sole &amp; toes of left foot</td>\n",
       "      <td>N</td>\n",
       "      <td>13h30</td>\n",
       "      <td>Possibly a juvenile blacktip shark</td>\n",
       "      <td>C. Creswell, GSAF</td>\n",
       "      <td>http://sharkattackfile.net/spreadsheets/pdf_di...</td>\n",
       "      <td>Creswell</td>\n",
       "    </tr>\n",
       "  </tbody>\n",
       "</table>\n",
       "</div>"
      ],
      "text/plain": [
       "     Unnamed: 0   Case Number         Date    Year        Type Country  \\\n",
       "11           11    2018.05.21  21-May-2018  2018.0  Unprovoked     USA   \n",
       "12           12  2018.05.13.b  13-May-2018  2018.0  Unprovoked     USA   \n",
       "102         102    2017.08.10  10-Aug-2017  2017.0  Unprovoked     USA   \n",
       "\n",
       "               Area                                           Location  \\\n",
       "11   South Carolina                  Isle of Palms,  Charleston County   \n",
       "12   South Carolina                Hilton Head Island, Beaufort County   \n",
       "102  South Carolina  Sea Pines Resort, Hilton Head Island, Beaufort...   \n",
       "\n",
       "            Activity           Name Sex  Age  \\\n",
       "11   Boogie boarding   Trey de Boer    M  10   \n",
       "12          Swimming    Jei Turrell    M  10   \n",
       "102         Swimming  Linton Suttle    M  13   \n",
       "\n",
       "                                     Injury Fatal (Y/N)   Time  \\\n",
       "11     Injuries to lower right leg and foot           N    NaN   \n",
       "12             Severe bite to right forearm           N  15h00   \n",
       "102  Minor cuts to sole & toes of left foot           N  13h30   \n",
       "\n",
       "                               Species   \\\n",
       "11                                  NaN   \n",
       "12                                  NaN   \n",
       "102  Possibly a juvenile blacktip shark   \n",
       "\n",
       "                                Investigator or Source  \\\n",
       "11                                   C. Creswell, GSAF   \n",
       "12   C. Creswell, GSAF & K. McMurray TrackingSharks...   \n",
       "102                                  C. Creswell, GSAF   \n",
       "\n",
       "                                                  href    Invest  \n",
       "11   http://sharkattackfile.net/spreadsheets/pdf_di...  Creswell  \n",
       "12   http://sharkattackfile.net/spreadsheets/pdf_di...  Creswell  \n",
       "102  http://sharkattackfile.net/spreadsheets/pdf_di...  Creswell  "
      ]
     },
     "execution_count": 242,
     "metadata": {},
     "output_type": "execute_result"
    }
   ],
   "source": [
    "\n",
    "shrk[\"Invest\"]=shrk[\"Investigator or Source\"].str.extract(r'(Creswell)')\n",
    "cresw= shrk[shrk[\"Invest\"] == \"Creswell\"]\n",
    "cresw.head(3)"
   ]
  },
  {
   "cell_type": "code",
   "execution_count": 250,
   "metadata": {
    "scrolled": false
   },
   "outputs": [
    {
     "data": {
      "text/plain": [
       "USA             0.981818\n",
       "SCOTLAND        0.006061\n",
       "NEW ZEALAND     0.006061\n",
       "SOUTH AFRICA    0.006061\n",
       "Name: Country, dtype: float64"
      ]
     },
     "execution_count": 250,
     "metadata": {},
     "output_type": "execute_result"
    }
   ],
   "source": [
    "cresw.Country.value_counts(1)"
   ]
  },
  {
   "cell_type": "code",
   "execution_count": 251,
   "metadata": {
    "scrolled": true
   },
   "outputs": [
    {
     "data": {
      "image/png": "[encoded data removed]",
      "text/plain": [
       "<Figure size 1080x648 with 1 Axes>"
      ]
     },
     "metadata": {
      "needs_background": "light"
     },
     "output_type": "display_data"
    }
   ],
   "source": [
    "plt.figure(figsize=(15,9))\n",
    "           \n",
    "cresw_pais=sns.countplot(x = cresw.Country, palette=\"Blues\")\n",
    "vt.rotar_labels(cresw_pais,45)\n",
    "vt.guarda_grafico(cresw_pais, \"images/cresw_pais.svg\")"
   ]
  },
  {
   "cell_type": "code",
   "execution_count": 187,
   "metadata": {
    "scrolled": false
   },
   "outputs": [
    {
     "data": {
      "text/plain": [
       "Swimming                                                     0.338346\n",
       "Fishing                                                      0.233083\n",
       "Bathing                                                      0.045113\n",
       "Spearfishing                                                 0.045113\n",
       "Scuba diving                                                 0.030075\n",
       "Fishing boat                                                 0.022556\n",
       "Diving for sponges                                           0.015038\n",
       "Diving                                                       0.015038\n",
       "Fishing for squid                                            0.015038\n",
       "Skin diving                                                  0.015038\n",
       "Longling fishing                                             0.007519\n",
       "Scuba diving, but swimming on surface                        0.007519\n",
       "Diving (Helmet) for sponges                                  0.007519\n",
       "Fishing for mackerel                                         0.007519\n",
       "Fell overboard                                               0.007519\n",
       "Sponge diving                                                0.007519\n",
       "Dangling feet in the water                                   0.007519\n",
       "Washing clothes                                              0.007519\n",
       "Fell into the water                                          0.007519\n",
       "Surfing                                                      0.007519\n",
       "Collecting fish                                              0.007519\n",
       "Jumped overboard                                             0.007519\n",
       "Fishing trawler Flavio Gioia                                 0.007519\n",
       "Swimming from foundered vessel                               0.007519\n",
       "small boat                                                   0.007519\n",
       "Boat swamped                                                 0.007519\n",
       "Sculling                                                     0.007519\n",
       "Diving (Hookah)                                              0.007519\n",
       "Boating                                                      0.007519\n",
       "Jumped or fell overboard                                     0.007519\n",
       "Swimming alongside the SS Kearsarge                          0.007519\n",
       "Fishing  (trawling)                                          0.007519\n",
       "Floating on his back in an inner tube                        0.007519\n",
       "Spearfishing with Scuba gear                                 0.007519\n",
       "Sponge divers                                                0.007519\n",
       "Dragging a shark                                             0.007519\n",
       "Human head found in shark caught by British steamer Syria    0.007519\n",
       "Fishing                                                      0.007519\n",
       "Standing                                                     0.007519\n",
       "Spearfishing on Scuba                                        0.007519\n",
       "Name: Activity, dtype: float64"
      ]
     },
     "execution_count": 187,
     "metadata": {},
     "output_type": "execute_result"
    }
   ],
   "source": [
    "moore.Activity.value_counts(1)"
   ]
  },
  {
   "cell_type": "code",
   "execution_count": 262,
   "metadata": {
    "scrolled": false
   },
   "outputs": [
    {
     "data": {
      "text/plain": [
       "Swimming                                                                0.255034\n",
       "Surfing                                                                 0.147651\n",
       "Wading                                                                  0.107383\n",
       "Standing                                                                0.067114\n",
       "Fishing                                                                 0.060403\n",
       "Body surfing                                                            0.046980\n",
       "Boogie boarding                                                         0.040268\n",
       "Bathing                                                                 0.033557\n",
       "Boogie Boarding                                                         0.026846\n",
       "Diving                                                                  0.020134\n",
       "Floating                                                                0.013423\n",
       "Playing                                                                 0.013423\n",
       "Playing in the surf                                                     0.013423\n",
       "Scuba diving                                                            0.013423\n",
       "Body boarding                                                           0.006711\n",
       "Touching a shark                                                        0.006711\n",
       "Playing in the water                                                    0.006711\n",
       "Cruising                                                                0.006711\n",
       "Kite boarding                                                           0.006711\n",
       "Surfing, fell off surfboard                                             0.006711\n",
       "Accidentally thrown overboard & treading water while awaiting rescue    0.006711\n",
       "Surfing                                                                 0.006711\n",
       "Swimming beside launch                                                  0.006711\n",
       "Boogie boarding, kicked at object in the water                          0.006711\n",
       "Body surfing?                                                           0.006711\n",
       "Swimming out to porpoises                                               0.006711\n",
       "Commercial Salvage Diving                                               0.006711\n",
       "Harpooning turtles                                                      0.006711\n",
       "Holding onto an inflatable boat                                         0.006711\n",
       "Walking                                                                 0.006711\n",
       "Playing / jumping                                                       0.006711\n",
       "Jumping                                                                 0.006711\n",
       "Swimming                                                                0.006711\n",
       "Surf fishing                                                            0.006711\n",
       "\"Riding waves on a board\"                                               0.006711\n",
       "Name: Activity, dtype: float64"
      ]
     },
     "execution_count": 262,
     "metadata": {},
     "output_type": "execute_result"
    }
   ],
   "source": [
    "cresw.Activity.value_counts(1)"
   ]
  },
  {
   "cell_type": "code",
   "execution_count": 260,
   "metadata": {
    "scrolled": true
   },
   "outputs": [
    {
     "data": {
      "text/html": [
       "<div>\n",
       "<style scoped>\n",
       "    .dataframe tbody tr th:only-of-type {\n",
       "        vertical-align: middle;\n",
       "    }\n",
       "\n",
       "    .dataframe tbody tr th {\n",
       "        vertical-align: top;\n",
       "    }\n",
       "\n",
       "    .dataframe thead th {\n",
       "        text-align: right;\n",
       "    }\n",
       "</style>\n",
       "<table border=\"1\" class=\"dataframe\">\n",
       "  <thead>\n",
       "    <tr style=\"text-align: right;\">\n",
       "      <th></th>\n",
       "      <th>Unnamed: 0</th>\n",
       "      <th>Case Number</th>\n",
       "      <th>Date</th>\n",
       "      <th>Year</th>\n",
       "      <th>Type</th>\n",
       "      <th>Country</th>\n",
       "      <th>Area</th>\n",
       "      <th>Location</th>\n",
       "      <th>Activity</th>\n",
       "      <th>Name</th>\n",
       "      <th>Sex</th>\n",
       "      <th>Age</th>\n",
       "      <th>Injury</th>\n",
       "      <th>Fatal (Y/N)</th>\n",
       "      <th>Time</th>\n",
       "      <th>Species</th>\n",
       "      <th>Investigator or Source</th>\n",
       "      <th>href</th>\n",
       "      <th>Invest</th>\n",
       "    </tr>\n",
       "  </thead>\n",
       "  <tbody>\n",
       "    <tr>\n",
       "      <th>136</th>\n",
       "      <td>136</td>\n",
       "      <td>2017.06.07.R</td>\n",
       "      <td>Reported 07-Jun-2017</td>\n",
       "      <td>2017.0</td>\n",
       "      <td>Unprovoked</td>\n",
       "      <td>UNITED KINGDOM</td>\n",
       "      <td>South Devon</td>\n",
       "      <td>Bantham Beach</td>\n",
       "      <td>Surfing</td>\n",
       "      <td>Rich Thomson</td>\n",
       "      <td>M</td>\n",
       "      <td>30</td>\n",
       "      <td>Bruise to leg, cuts to hand sustained when he ...</td>\n",
       "      <td>N</td>\n",
       "      <td>NaN</td>\n",
       "      <td>3m shark, probably a smooth hound</td>\n",
       "      <td>C. Moore, GSAF</td>\n",
       "      <td>http://sharkattackfile.net/spreadsheets/pdf_di...</td>\n",
       "      <td>Moore</td>\n",
       "    </tr>\n",
       "    <tr>\n",
       "      <th>2694</th>\n",
       "      <td>2694</td>\n",
       "      <td>1989.02.02</td>\n",
       "      <td>02-Feb-1989</td>\n",
       "      <td>1989.0</td>\n",
       "      <td>Unprovoked</td>\n",
       "      <td>ITALY</td>\n",
       "      <td>Tyrrhenian Sea</td>\n",
       "      <td>Golfo di Baratti, near Piombino (Tuscany)</td>\n",
       "      <td>Scuba diving, but swimming on surface</td>\n",
       "      <td>Luciano Costanzo</td>\n",
       "      <td>M</td>\n",
       "      <td>47</td>\n",
       "      <td>FATAL. His body not recovered</td>\n",
       "      <td>Y</td>\n",
       "      <td>10h25</td>\n",
       "      <td>6 m [20'] white shark</td>\n",
       "      <td>A. De Maddalena; Cappelletti (1989a), Bertucce...</td>\n",
       "      <td>http://sharkattackfile.net/spreadsheets/pdf_di...</td>\n",
       "      <td>Moore</td>\n",
       "    </tr>\n",
       "    <tr>\n",
       "      <th>2718</th>\n",
       "      <td>2718</td>\n",
       "      <td>1988.08.22.a</td>\n",
       "      <td>22-Aug-1988</td>\n",
       "      <td>1988.0</td>\n",
       "      <td>Unprovoked</td>\n",
       "      <td>ITALY</td>\n",
       "      <td>Manfredonia</td>\n",
       "      <td>Ippocampo</td>\n",
       "      <td>NaN</td>\n",
       "      <td>male</td>\n",
       "      <td>M</td>\n",
       "      <td>16</td>\n",
       "      <td>Survived</td>\n",
       "      <td>N</td>\n",
       "      <td>NaN</td>\n",
       "      <td>NaN</td>\n",
       "      <td>C. Moore, GSAF</td>\n",
       "      <td>http://sharkattackfile.net/spreadsheets/pdf_di...</td>\n",
       "      <td>Moore</td>\n",
       "    </tr>\n",
       "  </tbody>\n",
       "</table>\n",
       "</div>"
      ],
      "text/plain": [
       "      Unnamed: 0   Case Number                  Date    Year        Type  \\\n",
       "136          136  2017.06.07.R  Reported 07-Jun-2017  2017.0  Unprovoked   \n",
       "2694        2694    1989.02.02           02-Feb-1989  1989.0  Unprovoked   \n",
       "2718        2718  1988.08.22.a           22-Aug-1988  1988.0  Unprovoked   \n",
       "\n",
       "             Country            Area  \\\n",
       "136   UNITED KINGDOM     South Devon   \n",
       "2694           ITALY  Tyrrhenian Sea   \n",
       "2718           ITALY    Manfredonia    \n",
       "\n",
       "                                       Location  \\\n",
       "136                               Bantham Beach   \n",
       "2694  Golfo di Baratti, near Piombino (Tuscany)   \n",
       "2718                                  Ippocampo   \n",
       "\n",
       "                                   Activity              Name Sex  Age  \\\n",
       "136                                Surfing       Rich Thomson    M  30   \n",
       "2694  Scuba diving, but swimming on surface  Luciano Costanzo    M  47   \n",
       "2718                                    NaN              male    M  16   \n",
       "\n",
       "                                                 Injury Fatal (Y/N)   Time  \\\n",
       "136   Bruise to leg, cuts to hand sustained when he ...           N    NaN   \n",
       "2694                      FATAL. His body not recovered           Y  10h25   \n",
       "2718                                           Survived           N    NaN   \n",
       "\n",
       "                               Species   \\\n",
       "136   3m shark, probably a smooth hound   \n",
       "2694              6 m [20'] white shark   \n",
       "2718                                NaN   \n",
       "\n",
       "                                 Investigator or Source  \\\n",
       "136                                      C. Moore, GSAF   \n",
       "2694  A. De Maddalena; Cappelletti (1989a), Bertucce...   \n",
       "2718                                     C. Moore, GSAF   \n",
       "\n",
       "                                                   href Invest  \n",
       "136   http://sharkattackfile.net/spreadsheets/pdf_di...  Moore  \n",
       "2694  http://sharkattackfile.net/spreadsheets/pdf_di...  Moore  \n",
       "2718  http://sharkattackfile.net/spreadsheets/pdf_di...  Moore  "
      ]
     },
     "execution_count": 260,
     "metadata": {},
     "output_type": "execute_result"
    }
   ],
   "source": [
    "moore.head(3)"
   ]
  },
  {
   "cell_type": "markdown",
   "metadata": {},
   "source": [
    "Filtramos los datos para ver cuantas investigaciones ha llevado a cabo a lo largo de los años."
   ]
  },
  {
   "cell_type": "code",
   "execution_count": null,
   "metadata": {},
   "outputs": [],
   "source": [
    "moore2 = moore[moore[\"Year\"]>1600]\n",
    "moore_year=sns.histplot(x=moore2[\"Year\"], kde=True, color=\"green\")\n",
    "vt.guarda_grafico(moore_year, \"images/moore_year.svg\")"
   ]
  },
  {
   "cell_type": "code",
   "execution_count": 259,
   "metadata": {},
   "outputs": [
    {
     "data": {
      "image/png": "[encoded data removed]",
      "text/plain": [
       "<Figure size 432x288 with 1 Axes>"
      ]
     },
     "metadata": {
      "needs_background": "light"
     },
     "output_type": "display_data"
    }
   ],
   "source": [
    "cresw2 = cresw[cresw[\"Year\"]>1600]\n",
    "cresw_year=sns.histplot(x=cresw2[\"Year\"], kde=True, color=\"blue\")\n",
    "vt.guarda_grafico(cresw_year, \"images/cresw_year.svg\")"
   ]
  },
  {
   "cell_type": "code",
   "execution_count": 221,
   "metadata": {
    "scrolled": false
   },
   "outputs": [
    {
     "data": {
      "image/png": "[encoded data removed]",
      "text/plain": [
       "<Figure size 432x288 with 1 Axes>"
      ]
     },
     "metadata": {
      "needs_background": "light"
     },
     "output_type": "display_data"
    }
   ],
   "source": [
    "moore_pro=sns.countplot(x=moore.Type, palette=\"Greens\")\n",
    "vt.guarda_grafico(moore_pro, \"images/moore_pro.svg\")"
   ]
  },
  {
   "cell_type": "code",
   "execution_count": 263,
   "metadata": {
    "scrolled": false
   },
   "outputs": [
    {
     "data": {
      "image/png": "[encoded data removed]",
      "text/plain": [
       "<Figure size 432x288 with 1 Axes>"
      ]
     },
     "metadata": {
      "needs_background": "light"
     },
     "output_type": "display_data"
    }
   ],
   "source": [
    "cresw_pro=sns.countplot(x=cresw.Type, palette=\"Blues\")\n",
    "vt.guarda_grafico(cresw_pro, \"images/cresw_pro.svg\")"
   ]
  },
  {
   "cell_type": "code",
   "execution_count": 219,
   "metadata": {
    "scrolled": false
   },
   "outputs": [
    {
     "data": {
      "text/plain": [
       "Unprovoked      0.524691\n",
       "Invalid         0.216049\n",
       "Provoked        0.135802\n",
       "Boating         0.092593\n",
       "Sea Disaster    0.018519\n",
       "Boat            0.012346\n",
       "Name: Type, dtype: float64"
      ]
     },
     "execution_count": 219,
     "metadata": {},
     "output_type": "execute_result"
    }
   ],
   "source": [
    "moore2[\"Type\"].value_counts(1)"
   ]
  },
  {
   "cell_type": "code",
   "execution_count": 261,
   "metadata": {
    "scrolled": false
   },
   "outputs": [
    {
     "data": {
      "text/plain": [
       "Unprovoked    0.828221\n",
       "Invalid       0.110429\n",
       "Provoked      0.036810\n",
       "Boating       0.024540\n",
       "Name: Type, dtype: float64"
      ]
     },
     "execution_count": 261,
     "metadata": {},
     "output_type": "execute_result"
    }
   ],
   "source": [
    "cresw2[\"Type\"].value_counts(1)"
   ]
  },
  {
   "cell_type": "code",
   "execution_count": 38,
   "metadata": {},
   "outputs": [],
   "source": [
    "import src.limpieza_texto as lt"
   ]
  },
  {
   "cell_type": "code",
   "execution_count": 190,
   "metadata": {
    "scrolled": true
   },
   "outputs": [
    {
     "ename": "NameError",
     "evalue": "name 'data_filtered_6' is not defined",
     "output_type": "error",
     "traceback": [
      "\u001b[1;31m---------------------------------------------------------------------------\u001b[0m",
      "\u001b[1;31mNameError\u001b[0m                                 Traceback (most recent call last)",
      "\u001b[1;32m<ipython-input-190-31d9b7df3086>\u001b[0m in \u001b[0;36m<module>\u001b[1;34m\u001b[0m\n\u001b[1;32m----> 1\u001b[1;33m \u001b[0mlt\u001b[0m\u001b[1;33m.\u001b[0m\u001b[0mvalores_iguales\u001b[0m\u001b[1;33m(\u001b[0m\u001b[0mdata_filtered_6\u001b[0m\u001b[1;33m,\u001b[0m \u001b[1;34m\"Investigator or Source\"\u001b[0m\u001b[1;33m,\u001b[0m \u001b[1;34m\"C. Moore, GSAF\"\u001b[0m\u001b[1;33m)\u001b[0m\u001b[1;33m\u001b[0m\u001b[1;33m\u001b[0m\u001b[0m\n\u001b[0m",
      "\u001b[1;31mNameError\u001b[0m: name 'data_filtered_6' is not defined"
     ]
    }
   ],
   "source": [
    "lt.valores_iguales(data_filtered_6, \"Investigator or Source\", \"C. Moore, GSAF\")"
   ]
  },
  {
   "cell_type": "code",
   "execution_count": 64,
   "metadata": {},
   "outputs": [
    {
     "ename": "TypeError",
     "evalue": "expected string or bytes-like object",
     "output_type": "error",
     "traceback": [
      "\u001b[1;31m---------------------------------------------------------------------------\u001b[0m",
      "\u001b[1;31mTypeError\u001b[0m                                 Traceback (most recent call last)",
      "\u001b[1;32m<ipython-input-64-ba7b61a320ee>\u001b[0m in \u001b[0;36m<module>\u001b[1;34m\u001b[0m\n\u001b[0;32m      1\u001b[0m \u001b[0mencontrar\u001b[0m \u001b[1;33m=\u001b[0m \u001b[1;34mr'[(D|d)iving]'\u001b[0m\u001b[1;33m\u001b[0m\u001b[1;33m\u001b[0m\u001b[0m\n\u001b[0;32m      2\u001b[0m \u001b[0mlugar\u001b[0m \u001b[1;33m=\u001b[0m \u001b[0mshrk\u001b[0m\u001b[1;33m.\u001b[0m\u001b[0mActivity\u001b[0m\u001b[1;33m\u001b[0m\u001b[1;33m\u001b[0m\u001b[0m\n\u001b[1;32m----> 3\u001b[1;33m \u001b[0mmatches\u001b[0m \u001b[1;33m=\u001b[0m \u001b[0mre\u001b[0m\u001b[1;33m.\u001b[0m\u001b[0mfindall\u001b[0m\u001b[1;33m(\u001b[0m\u001b[0mencontrar\u001b[0m\u001b[1;33m,\u001b[0m \u001b[0mlugar\u001b[0m\u001b[1;33m)\u001b[0m\u001b[1;33m\u001b[0m\u001b[1;33m\u001b[0m\u001b[0m\n\u001b[0m",
      "\u001b[1;32m~\\anaconda3\\lib\\re.py\u001b[0m in \u001b[0;36mfindall\u001b[1;34m(pattern, string, flags)\u001b[0m\n\u001b[0;32m    239\u001b[0m \u001b[1;33m\u001b[0m\u001b[0m\n\u001b[0;32m    240\u001b[0m     Empty matches are included in the result.\"\"\"\n\u001b[1;32m--> 241\u001b[1;33m     \u001b[1;32mreturn\u001b[0m \u001b[0m_compile\u001b[0m\u001b[1;33m(\u001b[0m\u001b[0mpattern\u001b[0m\u001b[1;33m,\u001b[0m \u001b[0mflags\u001b[0m\u001b[1;33m)\u001b[0m\u001b[1;33m.\u001b[0m\u001b[0mfindall\u001b[0m\u001b[1;33m(\u001b[0m\u001b[0mstring\u001b[0m\u001b[1;33m)\u001b[0m\u001b[1;33m\u001b[0m\u001b[1;33m\u001b[0m\u001b[0m\n\u001b[0m\u001b[0;32m    242\u001b[0m \u001b[1;33m\u001b[0m\u001b[0m\n\u001b[0;32m    243\u001b[0m \u001b[1;32mdef\u001b[0m \u001b[0mfinditer\u001b[0m\u001b[1;33m(\u001b[0m\u001b[0mpattern\u001b[0m\u001b[1;33m,\u001b[0m \u001b[0mstring\u001b[0m\u001b[1;33m,\u001b[0m \u001b[0mflags\u001b[0m\u001b[1;33m=\u001b[0m\u001b[1;36m0\u001b[0m\u001b[1;33m)\u001b[0m\u001b[1;33m:\u001b[0m\u001b[1;33m\u001b[0m\u001b[1;33m\u001b[0m\u001b[0m\n",
      "\u001b[1;31mTypeError\u001b[0m: expected string or bytes-like object"
     ]
    }
   ],
   "source": [
    "encontrar = r'[(D|d)iving]'\n",
    "lugar = shrk.Activity\n",
    "matches = re.findall(encontrar, lugar)"
   ]
  },
  {
   "cell_type": "code",
   "execution_count": null,
   "metadata": {},
   "outputs": [],
   "source": []
  }
 ],
 "metadata": {
  "kernelspec": {
   "display_name": "Python 3",
   "language": "python",
   "name": "python3"
  },
  "language_info": {
   "codemirror_mode": {
    "name": "ipython",
    "version": 3
   },
   "file_extension": ".py",
   "mimetype": "text/x-python",
   "name": "python",
   "nbconvert_exporter": "python",
   "pygments_lexer": "ipython3",
   "version": "3.8.5"
  }
 },
 "nbformat": 4,
 "nbformat_minor": 4
}
